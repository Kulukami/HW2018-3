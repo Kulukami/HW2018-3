{
 "cells": [
  {
   "cell_type": "code",
   "execution_count": 121,
   "metadata": {
    "collapsed": true
   },
   "outputs": [],
   "source": [
    "import matplotlib\n",
    "from matplotlib import pyplot as plt\n",
    "%matplotlib inline"
   ]
  },
  {
   "cell_type": "code",
   "execution_count": 122,
   "metadata": {
    "collapsed": true
   },
   "outputs": [],
   "source": [
    "import cmath\n",
    "def DFT(x):\n",
    "    N = len(x)\n",
    "    k=0\n",
    "    result = []\n",
    "    while k<N:\n",
    "        temp = 0\n",
    "        n=0\n",
    "        while n<N:\n",
    "            temp += x[n]*cmath.exp(-2j *cmath.pi * k * n / N)\n",
    "            n+=1\n",
    "        result.append(temp)\n",
    "        k+=1\n",
    "    return result\n",
    "\n",
    "def IDFT(x):\n",
    "    N = len(x)\n",
    "    n=0\n",
    "    result = []\n",
    "    while n<N:\n",
    "        temp = 0\n",
    "        k=0\n",
    "        while k<N:\n",
    "            temp+=x[k]*cmath.exp(2j *cmath.pi * k * n / N)\n",
    "            k+=1\n",
    "        result.append(temp/N)\n",
    "        n+=1\n",
    "    return result"
   ]
  },
  {
   "cell_type": "code",
   "execution_count": 123,
   "metadata": {
    "collapsed": true
   },
   "outputs": [],
   "source": [
    "class f2d():\n",
    "    def __init__(self,filepath):\n",
    "\n",
    "        self.pool=[] # sampleI shape like datas\n",
    "        self.sampleI=[0, #timeStamp\n",
    "                      0,0,0,0,0, # Counts of flavor0 ~ flavor15\n",
    "                      0,0,0,0,0,\n",
    "                      0,0,0,0]\n",
    "        \n",
    "        self.legi={\"flavor1\":1,\"flavor2\":2,\"flavor3\":3,\"flavor4\":4,\"flavor5\":5,\"flavor6\":6,\"flavor7\":7,\n",
    "                   \"flavor8\":8,\"flavor9\":9,\"flavor10\":10,\"flavor11\":11,\"flavor12\":12,\"flavor13\":13,\n",
    "                   \"flavor14\":14,\"flavor15\":15}\n",
    "        self.linesREG={0:0,\n",
    "                       1:1,2:1,\n",
    "                       3:2,4:2,5:2,\n",
    "                       6:3,7:3,8:3,9:3,10:3}\n",
    "        \n",
    "        self.lines=list([])\n",
    "        self.linescount=dict({})\n",
    "        self.resData=[]\n",
    "        \n",
    "        with open(filepath, 'r') as f:\n",
    "            lines = f.readlines()\n",
    "        \n",
    "        self.stime=self.date2read(lines[0].strip().split('\\t')[2])\n",
    "        \n",
    "        for line in lines:\n",
    "            self.mkpool(line)\n",
    "        #for i in range(len(self.pool)):\n",
    "        #    self.pool[i][0]=i+1\n",
    "        \n",
    "        self.dataLine()\n",
    "        self.regulias()\n",
    "    \n",
    "    def regulias(self):\n",
    "        for line in self.pool:\n",
    "            tmline=[]\n",
    "            for each in line:\n",
    "                if self.linesREG.has_key(each):\n",
    "                    tmline.append(self.linesREG[each])\n",
    "                else:\n",
    "                    tmline.append(4)\n",
    "            self.resData.append(tmline)\n",
    "                \n",
    "    \n",
    "    def dataLine(self):\n",
    "        self.lines=[]\n",
    "        S=set({})\n",
    "        for line in self.pool:\n",
    "            S.update(line)\n",
    "            for each in line:\n",
    "                if self.linescount.has_key(each):\n",
    "                    self.linescount[each]+=1\n",
    "                else:self.linescount[each]=1\n",
    "        self.lines.extend(S)\n",
    "     \n",
    "    def time2read(self,dt):\n",
    "        dt = dt.split('\\t')[0]\n",
    "        return time.mktime(time.strptime(dt,'%Y-%m-%d %H:%M:%S'))\n",
    "    \n",
    "    def date2read(self,dt):\n",
    "        dt = dt.split()[0]\n",
    "        return time.mktime(time.strptime(dt,'%Y-%m-%d')) # %H:%M:%S'))\n",
    "    \n",
    "    def hour2read(self,dt):\n",
    "        dt = dt.split(\":\")[0]\n",
    "        return time.mktime(time.strptime(dt,'%Y-%m-%d %H')) #:%M:%S'))\n",
    "\n",
    "    def timeMh(self,d1,d2):\n",
    "        return int((d1-d2)/604800) #a week\n",
    "        #return int((d1-d2)/3600) #a hour\n",
    "        #return int((d1-d2)/86400) #a day\n",
    "    \n",
    "    def mkpool(self,raw):\n",
    "\n",
    "        flavor,tm=raw.strip().split(\"\\t\")[1:]\n",
    "        #print tm\n",
    "        TM=self.time2read(tm)\n",
    "        \n",
    "        if flavor in self.legi:\n",
    "            hourTM=self.timeMh(TM,self.stime)\n",
    "            #pint hourTM\n",
    "            while hourTM - len(self.pool) >= 0:\n",
    "                sample = self.sampleI[:]\n",
    "                self.pool.append(sample)\n",
    "            \n",
    "            \n",
    "            self.pool[hourTM][self.legi[flavor]-1]+=1\n",
    "    \n",
    "    def appendDat(self,filepath):\n",
    "        with open(filepath, 'r') as f:\n",
    "            lines = f.readlines()\n",
    "        \n",
    "        for line in lines:\n",
    "            self.mkpool(line)\n",
    "        self.regulias()\n",
    "        self.dataLine()\n",
    "        #for i in range(len(self.pool)):\n",
    "        #    self.pool[i][0]=i+1"
   ]
  },
  {
   "cell_type": "code",
   "execution_count": 358,
   "metadata": {
    "collapsed": false
   },
   "outputs": [],
   "source": [
    "import os\n",
    "import time\n",
    "\n",
    "class prePro():\n",
    "    def __init__(self,ecsDataPath,inputFilePath,resultFilePath):        \n",
    "        InputInfos=self.readInput(inputFilePath)\n",
    "        self.phsDev=InputInfos[0] # (int(cpu),int(ram),int(disk))\n",
    "        self.virDevs=InputInfos[1]# dict[ID]:(int(cpus),int(rams))\n",
    "        self.firstCare=InputInfos[2]# CPU or MEM\n",
    "        self.predicStrTime=InputInfos[3]# timestamp\n",
    "        self.predicEndTime=InputInfos[4]# timestamp\n",
    "        \n",
    "        self.predicLength=self.predicEndTime-self.predicStrTime\n",
    "        \n",
    "        self.pool=[[],[],[],[],[],\n",
    "                   [],[],[],[],[],\n",
    "                   [],[],[],[],[]]\n",
    "\n",
    "        self.legi={\"flavor1\":0,\"flavor2\":1,\"flavor3\":2,\"flavor4\":3,\"flavor5\":4,\n",
    "                   \"flavor6\":5,\"flavor7\":6,\"flavor8\":7,\"flavor9\":8,\"flavor10\":9,\n",
    "                   \"flavor11\":10,\"flavor12\":11,\"flavor13\":12,\n",
    "                   \"flavor14\":13,\"flavor15\":14}\n",
    "        # Counts of flavor0 ~ flavor15\n",
    "        with open(ecsDataPath, 'r') as f:\n",
    "            lines = f.readlines()  \n",
    "        self.startime=self.date2read(lines[0].strip().split('\\t')[2])\n",
    "        self.endstime=self.date2read(lines[-1].strip().split('\\t')[2])+86400\n",
    "        for line in lines:\n",
    "            self.mkpool(line)\n",
    "        \n",
    "        #self.regulas()#print(self.pool)\n",
    "        #self.results=self.predict()\n",
    "        #print(self.results)\n",
    "        #self.putPhs(resultFilePath)\n",
    "        \n",
    "    def regulas(self):\n",
    "        for each in range(15):\n",
    "            if self.pool[each] != []:\n",
    "                avr = sum(self.pool[each])/float(len(self.pool[each]))\n",
    "                for i in range(len(self.pool[each])):\n",
    "                    if self.pool[each][i] > 3 * avr:\n",
    "                        #self.pool[each][i] = round(self.pool[each][i] * 0.5) \n",
    "                        self.pool[each][i] = round(self.pool[each][i])        \n",
    "\n",
    "                        \n",
    "    def date2read(self,dt):\n",
    "        dt = dt.split()[0]\n",
    "        return time.mktime(time.strptime(dt,'%Y-%m-%d'))    \n",
    "    \n",
    "    def readTime(self,timeStr):\n",
    "        return time.mktime(time.strptime(timeStr,'%Y-%m-%d %H:%M:%S'))\n",
    "\n",
    "    def time2read(self,dt):\n",
    "        dt = dt.split('\\t')[0]\n",
    "        return time.mktime(time.strptime(dt,'%Y-%m-%d %H:%M:%S'))\n",
    "\n",
    "    def timeMh(self,d1,d2):\n",
    "        #return int((d1-d2)/604800) #a week\n",
    "        #return int((d1-d2)/3600) #a hour\n",
    "        return int((d1-d2)/(self.predicLength*0.25)) #a day\n",
    "        #return int((d1-d2)/(86400)) #a day\n",
    "\n",
    "    def readInput(self,inputFilePath):\n",
    "        if os.path.exists(inputFilePath):\n",
    "            with open(inputFilePath,'r') as f:\n",
    "                cpu,ram,disk=f.readline().strip().split()\n",
    "                f.readline()\n",
    "                phsDev=(int(cpu),int(ram),int(disk))\n",
    "                virDevCount=int(f.readline().strip())\n",
    "                virDevs={}\n",
    "                for i in range(virDevCount):\n",
    "                    Id,cpus,rams=f.readline().strip().split()\n",
    "                    virDevs[Id]=(int(cpus),int(rams))\n",
    "                f.readline()\n",
    "                firstCare=f.readline().strip()\n",
    "                f.readline()\n",
    "                predicStrTime=self.readTime(f.readline().strip())\n",
    "                predicEndTime=self.readTime(f.readline().strip())\n",
    "                #print(phsDev,virDevs,firstCare,predicStrTime,predicEndTime)\n",
    "            return phsDev,virDevs,firstCare,predicStrTime,predicEndTime\n",
    "\n",
    "        else:\n",
    "            print('file not exist: ' + file_path)\n",
    "            return None\n",
    "    \n",
    "    def mkpool(self,raw):\n",
    "        flavor,tm=raw.strip().split(\"\\t\")[1:]\n",
    "        TM=self.time2read(tm)\n",
    "        if flavor in self.virDevs:\n",
    "            hourTM=self.timeMh(TM,self.startime)\n",
    "            while hourTM - len(self.pool[self.legi[flavor]]) >= 0:\n",
    "                self.pool[self.legi[flavor]].append([self.date2read(tm),1])\n",
    "            self.pool[self.legi[flavor]][hourTM][1]+=1\n",
    "            \n",
    "    def verC(self):\n",
    "        for i in self.results:\n",
    "            print(i,self.results[i])\n",
    "            \n",
    "    def predict(self):\n",
    "        predicts={}\n",
    "        predTime=self.predicEndTime - self.predicStrTime\n",
    "        dataTime=self.endstime-self.startime     \n",
    "        for i in self.virDevs:\n",
    "            \n",
    "            Ti=GradianDecent(self.pool[self.legi[i]],4800,10**-6)\n",
    "            Ti.Train()\n",
    "            Xi=int((self.predicStrTime-self.startime)/(predTime*0.25))\n",
    "            #Xi=int(dataTime/float(predTime*0.5))\n",
    "            #Xi=int(dataTime/predTime)\n",
    "\n",
    "            #print(\"Xi\",Xi)\n",
    "            #print(\"J\",Ti.J)\n",
    "            index=len(self.pool[self.legi[i]])\n",
    "            \n",
    "            #\"\"\"\n",
    "            errors = []\n",
    "            for ineach in range(index):\n",
    "                #errors.append((round(Ti.h(ineach))-self.pool[self.legi[i]][ineach] )/ float(index))\n",
    "                errors.append((round(Ti.h(ineach))-self.pool[self.legi[i]][ineach] ))\n",
    "\n",
    "            \n",
    "            print(i,sum([each for each in errors]))\n",
    "            plt.plot(errors)\n",
    "            #\"\"\"\n",
    "            \n",
    "            gdcounts1= round(Ti.h(Xi))\n",
    "            # pre_1 = self.pool[self.legi[i]][-2]\n",
    "            gdcounts2= round(Ti.h(Xi+1))\n",
    "            gdpredict = int(round(gdcounts1+gdcounts2))\n",
    "            #pre_2 = self.pool[self.legi[i]][-1]\n",
    "\n",
    "            predicts[i]=int(round(gdpredict))\n",
    "            #predicts[i]=int(gdcounts1)\n",
    "\n",
    "        return predicts\n",
    "   \n",
    "    def putPhs(self,resultFile):\n",
    "        results=self.results.copy()\n",
    "        Hdev=list(self.phsDev)\n",
    "        HDs={0:list(Hdev[:2])}\n",
    "        HDf={0:{\"flavor1\":0,\"flavor2\":0,\"flavor3\":0,\"flavor4\":0,\"flavor5\":0,\n",
    "                \"flavor6\":0,\"flavor7\":0,\"flavor8\":0,\"flavor9\":0,\"flavor10\":0,\n",
    "                \"flavor11\":0,\"flavor12\":0,\"flavor13\":0,\"flavor14\":0,\"flavor15\":0}}\n",
    "        \n",
    "        def selectHard(hdf,hds,dev):\n",
    "            for i in hds:\n",
    "                if hds[i][0] > self.virDevs[dev][0] and hds[i][1] > self.virDevs[dev][1]/1024.0:\n",
    "                    return i\n",
    "            hds[len(hds)]=list(Hdev[:2])\n",
    "            hdf[len(hdf)]={\"flavor1\":0,\"flavor2\":0,\"flavor3\":0,\"flavor4\":0,\"flavor5\":0,\n",
    "                           \"flavor6\":0,\"flavor7\":0,\"flavor8\":0,\"flavor9\":0,\"flavor10\":0,\n",
    "                           \"flavor11\":0,\"flavor12\":0,\"flavor13\":0,\"flavor14\":0,\"flavor15\":0}\n",
    "\n",
    "            return len(hds)-1\n",
    "\n",
    "        def isHave(predev=self.results):\n",
    "            for i in predev:\n",
    "                if predev[i]>0:\n",
    "                    return True\n",
    "            return False\n",
    "\n",
    "        def genKeys(predev=self.results):\n",
    "            keys = [\"flavor15\",\"flavor14\",\"flavor13\",\"flavor12\",\"flavor11\",\"flavor10\",\"flavor9\",\"flavor8\",\"flavor7\",\"flavor6\",\"flavor5\",\"flavor4\",\"flavor3\",\"flavor2\",\"flavor1\"]\n",
    "            res = []\n",
    "            #print predev\n",
    "            for key in keys:\n",
    "                if key in predev.keys():\n",
    "                    for i in range(predev[key]):\n",
    "                        res.append(key)\n",
    "            return res\n",
    "\n",
    "        def sv(hdf=HDf,hds=HDs,predev=results):\n",
    "            keys = genKeys()\n",
    "            firstC = 0 \n",
    "            if firstC == 0 or firstC == 1:\n",
    "                while isHave(predev):\n",
    "                    isPlace = False\n",
    "                    for i in hds:             \n",
    "                        for key in keys:            \n",
    "                            if predev[key] > 0:\n",
    "                                if hds[i][0] >= self.virDevs[key][0]:      \n",
    "                                    if hds[i][1] >= self.virDevs[key][1]/1024.0:\n",
    "                                        cpu,ram=self.virDevs[key]\n",
    "                                        hds[i][0] -= cpu\n",
    "                                        hds[i][1] -= ram/1024.0\n",
    "                                        hdf[i][key] += 1\n",
    "                                        predev[key] -= 1\n",
    "                                        keys.remove(key)\n",
    "                                        isPlace = True\n",
    "                    if isPlace == False :\n",
    "                        hds[len(hds)]=Hdev[:]\n",
    "                        hdf[len(hdf)]={\"flavor1\":0,\"flavor2\":0,\"flavor3\":0,\"flavor4\":0,\"flavor5\":0,\"flavor6\":0,\"flavor7\":0,\"flavor8\":0,\"flavor9\":0,\"flavor10\":0,\"flavor11\":0,\"flavor12\":0,\"flavor13\":0,\"flavor14\":0,\"flavor15\":0}\n",
    "\n",
    "        f=open(resultFile,\"w\")\n",
    "        totals = int(sum([i for i in results.values()]))\n",
    "        f.writelines([str(totals),'\\n'])\n",
    "        \n",
    "        for ID,Count in results.iteritems():\n",
    "            f.writelines([ID,\" \",str(int(Count)),'\\n'])\n",
    "        sv()\n",
    "        f.writelines(['\\n'])\n",
    "        \n",
    "        f.writelines([str(len(HDf)),'\\n'])\n",
    "        for each in HDf:\n",
    "            f.writelines([str(each+1)])\n",
    "            for i in HDf[each]:\n",
    "                if i in results:\n",
    "                    f.writelines([' ',i,' ',str(int(HDf[each][i]))])\n",
    "            f.writelines(['\\n'])\n",
    "        f.close()\n",
    "\n",
    "class GradianDecent():\n",
    "    def __init__(self,Y,trainL=4800,learningRate=10**-6,\n",
    "                 A = 0.0000057142857142857145,\n",
    "                 B = 0.011285714285714285,\n",
    "                 C = 1.0):\n",
    "\n",
    "        self.X=range(len(Y))\n",
    "        self.Y=Y\n",
    "        self.m=len(self.Y)\n",
    "        self.trainL=trainL\n",
    "        self.learningRate=learningRate\n",
    "\n",
    "        self.A = A \n",
    "        self.B = B\n",
    "        self.C = C\n",
    "\n",
    "        self.J=[]\n",
    "        \n",
    "    def Train(self):\n",
    "        for each in range(self.trainL):\n",
    "            ja=self.JFA(self.X,self.Y,self.A,self.B,self.C,self.m)\n",
    "            jb=self.JFB(self.X,self.Y,self.A,self.B,self.C,self.m)\n",
    "            jc=self.JFC(self.X,self.Y,self.A,self.B,self.C,self.m)\n",
    "            #print(\"ja\",ja,\"\\tjb\",jb,\"\\tjc\",jc)\n",
    "            self.A = self.A - self.learningRate * ja\n",
    "            self.B = self.B - self.learningRate * jb\n",
    "            self.C = self.C - self.learningRate * jc\n",
    "            self.J.append(self.Cost(self.X,self.Y,self.A,self.B,self.C,self.m))\n",
    "    \n",
    "    def h(self,x):\n",
    "        return  self.A*x **2  + self.B*x + self.C\n",
    "\n",
    "    def JFA(self,X,Y,A,B,C,m):\n",
    "        s=0.\n",
    "        for i in range(m):\n",
    "            s += 2*X[i] **2 *( A*X[i] **2  + B*X[i] + C - Y[i])\n",
    "        return s/float(m)\n",
    "\n",
    "    def JFB(self,X,Y,A,B,C,m):\n",
    "        s=0.\n",
    "        for i in range(m):\n",
    "            s += 2*X[i] *( A*X[i] **2  + B*X[i] + C - Y[i])\n",
    "        return s/float(m)\n",
    "\n",
    "    def JFC(self,X,Y,A,B,C,m):\n",
    "        s=0.\n",
    "        for i in range(m):\n",
    "            s +=  2*(A*X[i] **2  + B*X[i] + C - Y[i])\n",
    "        return s/float(m)\n",
    "\n",
    "    def Cost(self,X,Y,A,B,C,m):\n",
    "        s=0.\n",
    "        for i in range(m):\n",
    "            s +=  abs(A*X[i] **2  + B*X[i] + C - Y[i])\n",
    "        return s/float(m)"
   ]
  },
  {
   "cell_type": "code",
   "execution_count": 359,
   "metadata": {
    "collapsed": false
   },
   "outputs": [],
   "source": [
    "# coding=utf-8\n",
    "import sys\n",
    "import os\n",
    "import time\n",
    "import numpy as np\n",
    "#from predictor import prePro\n",
    "\n",
    "\"\"\"\n",
    "if __name__ == \"__main__\":\n",
    "    ecsDataPath = \"example/data_2015_4.txt\"\n",
    "    inputFilePath = \"example/input_5flavors_cpu_7days.txt\"\n",
    "    resultFilePath = \"../x2-regression/src/ecs/result\"\n",
    "    result=prePro(ecsDataPath,inputFilePath,resultFilePath)\n",
    "    \"\"\"\n",
    "\"\"\"\n",
    "ecsDataPath = \"data/all.txt\"\n",
    "inputFilePath = \"example/input_5flavors_cpu_7days.txt\"\n",
    "\"\"\"\n",
    "ecsDataPath = \"example/TrainData_2015.1.1_2015.2.19.txt\"\n",
    "inputFilePath = \"example/input_5flavors_cpu_7days.txt\"\n",
    "\n",
    "\n",
    "resultFilePath = \"../HW2018-3/data/result\"\n",
    "result=prePro(ecsDataPath,inputFilePath,resultFilePath)"
   ]
  },
  {
   "cell_type": "code",
   "execution_count": 360,
   "metadata": {
    "collapsed": false
   },
   "outputs": [],
   "source": [
    "class AR:\n",
    "    def __init__(self,buff):\n",
    "        self.buff = buff\n",
    "    \n",
    "    #计算期望\n",
    "    def Expe(self):\n",
    "        esum = 0.0\n",
    "        for i in range(size):\n",
    "            esum = esum + self.buff[i]\n",
    "        self.E = esum / size\n",
    "        return self.E\n",
    "    \n",
    "    #计算方差\n",
    "    def Vari(self):\n",
    "        vsum = 0.0\n",
    "        for e in self.buff:\n",
    "            vsum = vsum + pow((e - self.E), 2)\n",
    "        self.V = vsum / size\n",
    "        return self.V\n",
    "    \n",
    "    #计算坐标1点的AR值,因为根据自相关函数性质AR(0) = 1\n",
    "    def AR_P(self):\n",
    "        self.tsum = 0.0\n",
    "        for i in range(size - 1):\n",
    "            self.tsum += (self.buff[i]- self.E)*(self.buff[i+1] - self.E)\n",
    "        print 'self.tsum is ', self.tsum\n",
    "        self.ar = self.tsum / ((size - 1)* self.V )\n",
    "        print 'self.ar is :', self.ar\n",
    "        return self.ar \n",
    "    \n",
    "    #已知两点计算直线某点的y值\n",
    "    def lineP(self):\n",
    "        value = []\n",
    "        for i in range(len(self.buff)):\n",
    "            value.append(self.ar + (self.ar - 1)*(i - 1))\n",
    "\n",
    "        return value"
   ]
  },
  {
   "cell_type": "code",
   "execution_count": 361,
   "metadata": {
    "collapsed": false
   },
   "outputs": [
    {
     "name": "stdout",
     "output_type": "stream",
     "text": [
      "26\n"
     ]
    },
    {
     "name": "stderr",
     "output_type": "stream",
     "text": [
      "/usr/lib/python2.7/site-packages/IPython/kernel/__main__.py:71: FutureWarning: set_value is deprecated and will be removed in a future release. Please use .at[] or .iat[] accessors instead\n"
     ]
    },
    {
     "data": {
      "image/png": "[encoded data removed]",
      "text/plain": [
       "<matplotlib.figure.Figure at 0x7f52841fc7d0>"
      ]
     },
     "metadata": {},
     "output_type": "display_data"
    }
   ],
   "source": [
    "\"\"\"\n",
    "for j in result.results:\n",
    "    Signal0 = result.pool[result.legi[j]][:]\n",
    "    #print(Signal0)\n",
    "    ft_Signal0 = DFT(Signal0)\n",
    "    \n",
    "    Signal1 = [cmath.log10(i+1) for i in Signal0]\n",
    "    ft_Signal1 = DFT(Signal1)\n",
    "    #print(Signal1)\n",
    "    #print(ft_Signal1)\n",
    "    \n",
    "    #print(j,sum([abs(i.real) for i in ft_Signal0[5:]]))\n",
    "    plt.plot(Signal0)\n",
    "\"\"\"\n",
    "\"\"\"\n",
    "ar = AR(Signal0)\n",
    "ar.Expe()\n",
    "print ''\n",
    "ar.Vari()\n",
    "ar.AR_P()\n",
    "\n",
    "print 'The AR() value is '\n",
    "#ar.lineP()\n",
    "\"\"\"\n",
    "import numpy as np\n",
    "import pandas as pd\n",
    "from statsmodels.graphics.tsaplots import plot_acf, plot_pacf\n",
    "from statsmodels.tsa.stattools import adfuller\n",
    "\n",
    "\n",
    "def testStationarity(ts):\n",
    "    dftest = adfuller(ts)\n",
    "    # 对上述函数求得的值进行语义描述\n",
    "    dfoutput = pd.Series(dftest[0:4], index=['Test Statistic','p-value','#Lags Used','Number of Observations Used'])\n",
    "    for key,value in dftest[4].items():\n",
    "        dfoutput['Critical Value (%s)'%key] = value\n",
    "    return dfoutput\n",
    "\n",
    "# 自相关和偏相关图\n",
    "def draw_acf_pacf(ts, lags=31):\n",
    "    f = plt.figure(facecolor='white')\n",
    "    ax1 = f.add_subplot(211)\n",
    "    plot_acf(ts, lags=31, ax=ax1)\n",
    "    ax2 = f.add_subplot(212)\n",
    "    plot_pacf(ts, lags=31, ax=ax2)\n",
    "    plt.subplots_adjust(0,0,1,1,0,0)\n",
    "    plt.show()\n",
    "    \n",
    "def draw_ts(timeSeries):\n",
    "    f = plt.figure(facecolor='white')\n",
    "    timeSeries.plot(color='blue')\n",
    "    plt.show()\n",
    "\n",
    "def draw_trend(timeSeries, size):\n",
    "    f = plt.figure(facecolor='white')\n",
    "    # 对size个数据进行移动平均\n",
    "    rol_mean = timeSeries.rolling(window=size).mean()\n",
    "    # 对size个数据进行加权移动平均\n",
    "    rol_weighted_mean = timeSeries.ewm( span=size).mean()\n",
    "    timeSeries.plot(color='blue', label='Original')\n",
    "    rol_mean.plot(color='red', label='Rolling Mean')\n",
    "    rol_weighted_mean.plot(color='black', label='Weighted Rolling Mean')\n",
    "    plt.legend(loc='best')\n",
    "    plt.title('Rolling Mean')\n",
    "    plt.show()\n",
    "\n",
    "Signal0=pd.Series()   \n",
    "for i in range(len(result.pool[result.legi[\"flavor5\"]][:])):\n",
    "    date = result.pool[result.legi[\"flavor5\"]][i][0]\n",
    "    ts = pd.Timestamp(date, tz=None)\n",
    "    Signal0.set_value(ts, result.pool[result.legi[\"flavor5\"]][i][1])\n",
    "    \n",
    "#print(Signal0)\n",
    "print len(result.pool[result.legi[\"flavor5\"]])\n",
    "\n",
    "ts=Signal0.copy()\n",
    "draw_ts(ts)\n",
    "#draw_trend(df, size=5)\n",
    "#draw_acf_pacf(df)\n",
    "#testStationarity(ts)"
   ]
  },
  {
   "cell_type": "code",
   "execution_count": 362,
   "metadata": {
    "collapsed": false
   },
   "outputs": [
    {
     "data": {
      "image/png": "[encoded data removed]",
      "text/plain": [
       "<matplotlib.figure.Figure at 0x7f5266e76190>"
      ]
     },
     "metadata": {},
     "output_type": "display_data"
    },
    {
     "data": {
      "image/png": "[encoded data removed]",
      "text/plain": [
       "<matplotlib.figure.Figure at 0x7f52842a5b90>"
      ]
     },
     "metadata": {},
     "output_type": "display_data"
    }
   ],
   "source": [
    "ts_log = np.log(ts)\n",
    "draw_ts(ts_log)\n",
    "draw_trend(ts_log, 3)"
   ]
  },
  {
   "cell_type": "code",
   "execution_count": 363,
   "metadata": {
    "collapsed": false
   },
   "outputs": [
    {
     "ename": "ValueError",
     "evalue": "maxlag should be < nobs",
     "output_type": "error",
     "traceback": [
      "\u001b[1;31m---------------------------------------------------------------------------\u001b[0m",
      "\u001b[1;31mValueError\u001b[0m                                Traceback (most recent call last)",
      "\u001b[1;32m<ipython-input-363-03b29975c022>\u001b[0m in \u001b[0;36m<module>\u001b[1;34m()\u001b[0m\n\u001b[0;32m      3\u001b[0m \u001b[0mdiff_12_1\u001b[0m \u001b[1;33m=\u001b[0m \u001b[0mdiff_12\u001b[0m\u001b[1;33m.\u001b[0m\u001b[0mdiff\u001b[0m\u001b[1;33m(\u001b[0m\u001b[1;36m1\u001b[0m\u001b[1;33m)\u001b[0m\u001b[1;33m\u001b[0m\u001b[0m\n\u001b[0;32m      4\u001b[0m \u001b[0mdiff_12_1\u001b[0m\u001b[1;33m.\u001b[0m\u001b[0mdropna\u001b[0m\u001b[1;33m(\u001b[0m\u001b[0minplace\u001b[0m\u001b[1;33m=\u001b[0m\u001b[0mTrue\u001b[0m\u001b[1;33m)\u001b[0m\u001b[1;33m\u001b[0m\u001b[0m\n\u001b[1;32m----> 5\u001b[1;33m \u001b[0mtestStationarity\u001b[0m\u001b[1;33m(\u001b[0m\u001b[0mdiff_12_1\u001b[0m\u001b[1;33m)\u001b[0m\u001b[1;33m\u001b[0m\u001b[0m\n\u001b[0m",
      "\u001b[1;32m<ipython-input-361-20ebc0b6e31f>\u001b[0m in \u001b[0;36mtestStationarity\u001b[1;34m(ts)\u001b[0m\n\u001b[0;32m     30\u001b[0m \u001b[1;33m\u001b[0m\u001b[0m\n\u001b[0;32m     31\u001b[0m \u001b[1;32mdef\u001b[0m \u001b[0mtestStationarity\u001b[0m\u001b[1;33m(\u001b[0m\u001b[0mts\u001b[0m\u001b[1;33m)\u001b[0m\u001b[1;33m:\u001b[0m\u001b[1;33m\u001b[0m\u001b[0m\n\u001b[1;32m---> 32\u001b[1;33m     \u001b[0mdftest\u001b[0m \u001b[1;33m=\u001b[0m \u001b[0madfuller\u001b[0m\u001b[1;33m(\u001b[0m\u001b[0mts\u001b[0m\u001b[1;33m)\u001b[0m\u001b[1;33m\u001b[0m\u001b[0m\n\u001b[0m\u001b[0;32m     33\u001b[0m     \u001b[1;31m# 对上述函数求得的值进行语义描述\u001b[0m\u001b[1;33m\u001b[0m\u001b[1;33m\u001b[0m\u001b[0m\n\u001b[0;32m     34\u001b[0m     \u001b[0mdfoutput\u001b[0m \u001b[1;33m=\u001b[0m \u001b[0mpd\u001b[0m\u001b[1;33m.\u001b[0m\u001b[0mSeries\u001b[0m\u001b[1;33m(\u001b[0m\u001b[0mdftest\u001b[0m\u001b[1;33m[\u001b[0m\u001b[1;36m0\u001b[0m\u001b[1;33m:\u001b[0m\u001b[1;36m4\u001b[0m\u001b[1;33m]\u001b[0m\u001b[1;33m,\u001b[0m \u001b[0mindex\u001b[0m\u001b[1;33m=\u001b[0m\u001b[1;33m[\u001b[0m\u001b[1;34m'Test Statistic'\u001b[0m\u001b[1;33m,\u001b[0m\u001b[1;34m'p-value'\u001b[0m\u001b[1;33m,\u001b[0m\u001b[1;34m'#Lags Used'\u001b[0m\u001b[1;33m,\u001b[0m\u001b[1;34m'Number of Observations Used'\u001b[0m\u001b[1;33m]\u001b[0m\u001b[1;33m)\u001b[0m\u001b[1;33m\u001b[0m\u001b[0m\n",
      "\u001b[1;32m/usr/lib64/python2.7/site-packages/statsmodels/tsa/stattools.pyc\u001b[0m in \u001b[0;36madfuller\u001b[1;34m(x, maxlag, regression, autolag, store, regresults)\u001b[0m\n\u001b[0;32m    218\u001b[0m \u001b[1;33m\u001b[0m\u001b[0m\n\u001b[0;32m    219\u001b[0m     \u001b[0mxdiff\u001b[0m \u001b[1;33m=\u001b[0m \u001b[0mnp\u001b[0m\u001b[1;33m.\u001b[0m\u001b[0mdiff\u001b[0m\u001b[1;33m(\u001b[0m\u001b[0mx\u001b[0m\u001b[1;33m)\u001b[0m\u001b[1;33m\u001b[0m\u001b[0m\n\u001b[1;32m--> 220\u001b[1;33m     \u001b[0mxdall\u001b[0m \u001b[1;33m=\u001b[0m \u001b[0mlagmat\u001b[0m\u001b[1;33m(\u001b[0m\u001b[0mxdiff\u001b[0m\u001b[1;33m[\u001b[0m\u001b[1;33m:\u001b[0m\u001b[1;33m,\u001b[0m \u001b[0mNone\u001b[0m\u001b[1;33m]\u001b[0m\u001b[1;33m,\u001b[0m \u001b[0mmaxlag\u001b[0m\u001b[1;33m,\u001b[0m \u001b[0mtrim\u001b[0m\u001b[1;33m=\u001b[0m\u001b[1;34m'both'\u001b[0m\u001b[1;33m,\u001b[0m \u001b[0moriginal\u001b[0m\u001b[1;33m=\u001b[0m\u001b[1;34m'in'\u001b[0m\u001b[1;33m)\u001b[0m\u001b[1;33m\u001b[0m\u001b[0m\n\u001b[0m\u001b[0;32m    221\u001b[0m     \u001b[0mnobs\u001b[0m \u001b[1;33m=\u001b[0m \u001b[0mxdall\u001b[0m\u001b[1;33m.\u001b[0m\u001b[0mshape\u001b[0m\u001b[1;33m[\u001b[0m\u001b[1;36m0\u001b[0m\u001b[1;33m]\u001b[0m  \u001b[1;31m# pylint: disable=E1103\u001b[0m\u001b[1;33m\u001b[0m\u001b[0m\n\u001b[0;32m    222\u001b[0m \u001b[1;33m\u001b[0m\u001b[0m\n",
      "\u001b[1;32m/usr/lib64/python2.7/site-packages/statsmodels/tsa/tsatools.pyc\u001b[0m in \u001b[0;36mlagmat\u001b[1;34m(x, maxlag, trim, original, use_pandas)\u001b[0m\n\u001b[0;32m    377\u001b[0m         \u001b[0mdropidx\u001b[0m \u001b[1;33m=\u001b[0m \u001b[0mnvar\u001b[0m\u001b[1;33m\u001b[0m\u001b[0m\n\u001b[0;32m    378\u001b[0m     \u001b[1;32mif\u001b[0m \u001b[0mmaxlag\u001b[0m \u001b[1;33m>=\u001b[0m \u001b[0mnobs\u001b[0m\u001b[1;33m:\u001b[0m\u001b[1;33m\u001b[0m\u001b[0m\n\u001b[1;32m--> 379\u001b[1;33m         \u001b[1;32mraise\u001b[0m \u001b[0mValueError\u001b[0m\u001b[1;33m(\u001b[0m\u001b[1;34m\"maxlag should be < nobs\"\u001b[0m\u001b[1;33m)\u001b[0m\u001b[1;33m\u001b[0m\u001b[0m\n\u001b[0m\u001b[0;32m    380\u001b[0m     \u001b[0mlm\u001b[0m \u001b[1;33m=\u001b[0m \u001b[0mnp\u001b[0m\u001b[1;33m.\u001b[0m\u001b[0mzeros\u001b[0m\u001b[1;33m(\u001b[0m\u001b[1;33m(\u001b[0m\u001b[0mnobs\u001b[0m \u001b[1;33m+\u001b[0m \u001b[0mmaxlag\u001b[0m\u001b[1;33m,\u001b[0m \u001b[0mnvar\u001b[0m \u001b[1;33m*\u001b[0m \u001b[1;33m(\u001b[0m\u001b[0mmaxlag\u001b[0m \u001b[1;33m+\u001b[0m \u001b[1;36m1\u001b[0m\u001b[1;33m)\u001b[0m\u001b[1;33m)\u001b[0m\u001b[1;33m)\u001b[0m\u001b[1;33m\u001b[0m\u001b[0m\n\u001b[0;32m    381\u001b[0m     \u001b[1;32mfor\u001b[0m \u001b[0mk\u001b[0m \u001b[1;32min\u001b[0m \u001b[0mrange\u001b[0m\u001b[1;33m(\u001b[0m\u001b[1;36m0\u001b[0m\u001b[1;33m,\u001b[0m \u001b[0mint\u001b[0m\u001b[1;33m(\u001b[0m\u001b[0mmaxlag\u001b[0m \u001b[1;33m+\u001b[0m \u001b[1;36m1\u001b[0m\u001b[1;33m)\u001b[0m\u001b[1;33m)\u001b[0m\u001b[1;33m:\u001b[0m\u001b[1;33m\u001b[0m\u001b[0m\n",
      "\u001b[1;31mValueError\u001b[0m: maxlag should be < nobs"
     ]
    }
   ],
   "source": [
    "diff_12 = ts_log.diff(3)\n",
    "diff_12.dropna(inplace=True)\n",
    "diff_12_1 = diff_12.diff(1)\n",
    "diff_12_1.dropna(inplace=True)\n",
    "testStationarity(diff_12_1)"
   ]
  },
  {
   "cell_type": "code",
   "execution_count": 345,
   "metadata": {
    "collapsed": false
   },
   "outputs": [
    {
     "data": {
      "text/plain": [
       "Test Statistic                -2.248392\n",
       "p-value                        0.189153\n",
       "#Lags Used                     1.000000\n",
       "Number of Observations Used    8.000000\n",
       "Critical Value (5%)           -3.367187\n",
       "Critical Value (1%)           -4.665186\n",
       "Critical Value (10%)          -2.802961\n",
       "dtype: float64"
      ]
     },
     "execution_count": 345,
     "metadata": {},
     "output_type": "execute_result"
    }
   ],
   "source": [
    "rol_mean = ts_log.rolling(window=3).mean()\n",
    "rol_mean.dropna(inplace=True)\n",
    "ts_diff_1 = rol_mean.diff(1)\n",
    "ts_diff_1.dropna(inplace=True)\n",
    "testStationarity(ts_diff_1)"
   ]
  },
  {
   "cell_type": "code",
   "execution_count": 346,
   "metadata": {
    "collapsed": false
   },
   "outputs": [
    {
     "data": {
      "text/plain": [
       "Test Statistic                -6.294601e+00\n",
       "p-value                        3.531040e-08\n",
       "#Lags Used                     0.000000e+00\n",
       "Number of Observations Used    8.000000e+00\n",
       "Critical Value (5%)           -3.367187e+00\n",
       "Critical Value (1%)           -4.665186e+00\n",
       "Critical Value (10%)          -2.802961e+00\n",
       "dtype: float64"
      ]
     },
     "execution_count": 346,
     "metadata": {},
     "output_type": "execute_result"
    }
   ],
   "source": [
    "ts_diff_2 = ts_diff_1.diff(1)\n",
    "ts_diff_2.dropna(inplace=True)\n",
    "testStationarity(ts_diff_2)"
   ]
  },
  {
   "cell_type": "code",
   "execution_count": 347,
   "metadata": {
    "collapsed": false
   },
   "outputs": [],
   "source": [
    "from statsmodels.tsa.arima_model import ARMA\n",
    "model = ARMA(ts_diff_2, order=(1, 1,1)) #order=(1,1,1)就是ARIMA\n",
    "result_arma = model.fit( disp=-1, method='css')"
   ]
  },
  {
   "cell_type": "code",
   "execution_count": null,
   "metadata": {
    "collapsed": true
   },
   "outputs": [],
   "source": []
  },
  {
   "cell_type": "code",
   "execution_count": 355,
   "metadata": {
    "collapsed": false
   },
   "outputs": [],
   "source": [
    "predict_ts = result_arma.predict()\n",
    "# 一阶差分还原\n",
    "diff_shift_ts = ts_diff_1.shift(1)\n",
    "diff_recover_1 = predict_ts.add(diff_shift_ts)\n",
    "# 再次一阶差分还原\n",
    "rol_shift_ts = rol_mean.shift(1)\n",
    "diff_recover = diff_recover_1.add(rol_shift_ts)\n",
    "# 移动平均还原\n",
    "rol_sum = ts_log.rolling(window=3).sum()\n",
    "rol_recover = diff_recover*3 - rol_sum.shift(1)\n",
    "# 对数还原\n",
    "log_recover = np.exp(rol_recover)\n",
    "\n",
    "log_recover.dropna(inplace=True)\n",
    "#print(log_recover)"
   ]
  },
  {
   "cell_type": "code",
   "execution_count": 357,
   "metadata": {
    "collapsed": false
   },
   "outputs": [
    {
     "name": "stdout",
     "output_type": "stream",
     "text": [
      "1970-01-01 00:00:01.422374400    2\n",
      "1970-01-01 00:00:01.422460800    2\n",
      "1970-01-01 00:00:01.422892800    4\n",
      "1970-01-01 00:00:01.422979200    2\n",
      "1970-01-01 00:00:01.423152000    4\n",
      "1970-01-01 00:00:01.423324800    2\n",
      "1970-01-01 00:00:01.423756800    2\n",
      "1970-01-01 00:00:01.423843200    3\n",
      "dtype: int64\n"
     ]
    },
    {
     "data": {
      "image/png": "[encoded data removed]",
      "text/plain": [
       "<matplotlib.figure.Figure at 0x7f5266e4b4d0>"
      ]
     },
     "metadata": {},
     "output_type": "display_data"
    }
   ],
   "source": [
    "ts = ts[log_recover.index]  # 过滤没有预测的记录\n",
    "print ts\n",
    "\n",
    "plt.figure(facecolor='white')\n",
    "log_recover.plot(color='blue', label='Predict')\n",
    "ts.plot(color='red', label='Original')\n",
    "plt.legend(loc='best')\n",
    "plt.title('RMSE: %.4f'% np.sqrt(sum((log_recover-ts)**2)/ts.size))\n",
    "#plt.title('RMSE: %.4f'% np.sqrt(sum((log_recover-ts)**2)))\n",
    "\n",
    "plt.show()"
   ]
  },
  {
   "cell_type": "code",
   "execution_count": null,
   "metadata": {
    "collapsed": true
   },
   "outputs": [],
   "source": []
  },
  {
   "cell_type": "code",
   "execution_count": 26,
   "metadata": {
    "collapsed": true
   },
   "outputs": [],
   "source": [
    "oData = f2d(\"data/all.txt\")\n",
    "oMat = np.mat(oData.pool)\n",
    "testData = f2d(\"example/TestData_2015.2.20_2015.2.27.txt\")\n",
    "testMat = np.mat(testData.pool)"
   ]
  },
  {
   "cell_type": "code",
   "execution_count": 27,
   "metadata": {
    "collapsed": false
   },
   "outputs": [
    {
     "data": {
      "text/plain": [
       "'\\nfor i in result.pool:\\n    print(i)\\n    '"
      ]
     },
     "execution_count": 27,
     "metadata": {},
     "output_type": "execute_result"
    }
   ],
   "source": [
    "\"\"\"\n",
    "for i in result.pool:\n",
    "    print(i)\n",
    "    \"\"\""
   ]
  },
  {
   "cell_type": "code",
   "execution_count": 28,
   "metadata": {
    "collapsed": false
   },
   "outputs": [
    {
     "name": "stdout",
     "output_type": "stream",
     "text": [
      "(1, 0)\n",
      "(2, 13)\n",
      "(3, 3)\n",
      "(4, 0)\n",
      "(5, 2)\n",
      "(6, 0)\n",
      "(7, 2)\n",
      "(8, 6)\n",
      "(9, 15)\n",
      "(10, 2)\n",
      "(11, 5)\n",
      "(12, 1)\n",
      "(13, 0)\n",
      "(14, 7)\n",
      "(15, 2)\n"
     ]
    }
   ],
   "source": [
    "j=0\n",
    "for i in testData.pool[0]:\n",
    "    j += 1\n",
    "    print(j,i)"
   ]
  },
  {
   "cell_type": "code",
   "execution_count": null,
   "metadata": {
    "collapsed": true
   },
   "outputs": [],
   "source": []
  },
  {
   "cell_type": "code",
   "execution_count": null,
   "metadata": {
    "collapsed": true
   },
   "outputs": [],
   "source": []
  }
 ],
 "metadata": {
  "kernelspec": {
   "display_name": "Python 2",
   "language": "python",
   "name": "python2"
  },
  "language_info": {
   "codemirror_mode": {
    "name": "ipython",
    "version": 2
   },
   "file_extension": ".py",
   "mimetype": "text/x-python",
   "name": "python",
   "nbconvert_exporter": "python",
   "pygments_lexer": "ipython2",
   "version": "2.7.13"
  }
 },
 "nbformat": 4,
 "nbformat_minor": 2
}
