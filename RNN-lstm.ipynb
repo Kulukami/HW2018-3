{
 "cells": [
  {
   "cell_type": "markdown",
   "metadata": {},
   "source": [
    "#RNN\n"
   ]
  },
  {
   "cell_type": "code",
   "execution_count": 42,
   "metadata": {
    "collapsed": false
   },
   "outputs": [
    {
     "name": "stdout",
     "output_type": "stream",
     "text": [
      "55\n",
      "[[15, 30, 45, 60, 75]]\n",
      "[[2, 4, 6, 8, 10], [2, 4, 6, 8, 10], [2, 4, 6, 8, 10], [2, 4, 6, 8, 10], [2, 4, 6, 8, 10]]\n"
     ]
    }
   ],
   "source": [
    "from  cmath import tanh,exp\n",
    "\n",
    "def add(x, y):\n",
    "    return x + y\n",
    "\n",
    "def mul(x, y):\n",
    "    return x * y\n",
    "\n",
    "def two_matrix_add(x, y):\n",
    "    result = []\n",
    "    for i in xrange(len(x)):\n",
    "        result.append(list(map(lambda t: reduce(add, t), zip(x[i], y[i]))))\n",
    "    return result\n",
    "\n",
    "def matrix_add(matrix_list):\n",
    "    return reduce(two_matrix_add, matrix_list)\n",
    "\n",
    "def VecMul(A,B):\n",
    "    assert(len(A) == len(B))\n",
    "    return sum(map(mul, A, B))\n",
    "\n",
    "def MatMul(A,B):\n",
    "    return [[sum(a * b for a, b in zip(a, b)) for b in zip(*B)] for a in A]\n",
    "\n",
    "A = [1,2,3,4,5]\n",
    "B = [1,2,3,4,5]\n",
    "C = [[1,2,3,4,5],[1,2,3,4,5],[1,2,3,4,5],[1,2,3,4,5],[1,2,3,4,5]]\n",
    "print(VecMul(A,B))\n",
    "print(MatMul(list([B]),C))\n",
    "print(two_matrix_add(C,C))"
   ]
  },
  {
   "cell_type": "code",
   "execution_count": 81,
   "metadata": {
    "collapsed": false
   },
   "outputs": [
    {
     "name": "stdout",
     "output_type": "stream",
     "text": [
      "[[0.01, 0.01, 0.01, 0.01, 0.01, 0.01], [0.01, 0.01, 0.01, 0.01, 0.01, 0.01]]\n",
      "[0.01, 0.01]\n",
      "[[0.01], [0.01]]\n",
      "[[0.0002]]\n"
     ]
    }
   ],
   "source": [
    "class rnnCellState():\n",
    "    def __init__(self, h_length, x_dim=1, hiden=2):\n",
    "        self.Whi = [[0.01 for each in xrange(h_length + x_dim)]] * hiden\n",
    "        self.Who = [0.01 for each in xrange(hiden)]\n",
    "        self.Wo1 = [[0.01] for each in xrange(hiden)]\n",
    "        self.Wy  = 0.01\n",
    "\n",
    "class rnnCell():\n",
    "    def __init__(self, h_length, x_dim=1, hiden=2):\n",
    "        self.state = rnnCellState(h_length, x_dim, hiden)\n",
    "        self.h0 = [0.01 for each in xrange(h_length)]\n",
    "        self.h1 = [0.01 for each in xrange(h_length)]\n",
    "        self.Y = None\n",
    "        \n",
    "    def forward(self,X,h0=None):\n",
    "        if h0:self.h0=h0\n",
    "        \n",
    "        D0=self.h0[:]\n",
    "        D0.append(X)\n",
    "        \n",
    "        D1 = MatMul(list([D0]),self.state.Whi)\n",
    "        #print(D1)\n",
    "        D2 = two_matrix_add(D1,[self.state.Who])\n",
    "        #print(D2)\n",
    "        D3 = MatMul(D2,self.state.Wo1)[0][0]\n",
    "        #print(D3)\n",
    "        self.Y = D3 + self.state.Wy\n",
    "        \n",
    "    def backward(self,Y):\n",
    "\n",
    "\n",
    "S=rnnCellState(5)\n",
    "print S.Whi\n",
    "print S.Who\n",
    "print S.Wo1\n",
    "\n",
    "print MatMul(list([S.Who]),S.Wo1)"
   ]
  },
  {
   "cell_type": "code",
   "execution_count": 82,
   "metadata": {
    "collapsed": false
   },
   "outputs": [],
   "source": [
    "a = rnnCell(2)"
   ]
  },
  {
   "cell_type": "code",
   "execution_count": 83,
   "metadata": {
    "collapsed": false
   },
   "outputs": [
    {
     "name": "stdout",
     "output_type": "stream",
     "text": [
      "[[0.0002, 0.0002, 0.0002]]\n",
      "[[0.0102, 0.0102]]\n",
      "0.000204\n"
     ]
    }
   ],
   "source": [
    "a.forward(1)"
   ]
  },
  {
   "cell_type": "code",
   "execution_count": 84,
   "metadata": {
    "collapsed": false
   },
   "outputs": [
    {
     "name": "stdout",
     "output_type": "stream",
     "text": [
      "3.14\n",
      "[1, 2, 3]\n"
     ]
    }
   ],
   "source": [
    "a = [1,2,3]\n",
    "b = 3.14\n",
    "a.append(b)\n",
    "del a[-1]\n",
    "print b\n",
    "print a"
   ]
  },
  {
   "cell_type": "code",
   "execution_count": 208,
   "metadata": {
    "collapsed": false
   },
   "outputs": [],
   "source": [
    "import matplotlib\n",
    "from matplotlib import pyplot as plt\n",
    "%matplotlib inline\n",
    "\n",
    "import random\n",
    "\n",
    "import numpy as np\n",
    "import math\n",
    "\n",
    "def sigmoid(x): \n",
    "    return 1. / (1 + np.exp(-x))\n",
    "\n",
    "def sigmoid_derivative(values): \n",
    "    return values*(1-values)\n",
    "\n",
    "def tanh_derivative(values): \n",
    "    return 1. - values ** 2\n",
    "\n",
    "# createst uniform random array w/ values in [a,b) and shape args\n",
    "def rand_arr(a, b, *args): \n",
    "    np.random.seed(0)\n",
    "    return np.random.rand(*args) * (b - a) + a\n",
    "\n",
    "class LstmParam:\n",
    "    def __init__(self, mem_cell_ct, x_dim):\n",
    "        self.mem_cell_ct = mem_cell_ct\n",
    "        self.x_dim = x_dim\n",
    "        concat_len = x_dim + mem_cell_ct\n",
    "        # weight matrices\n",
    "        self.wg = rand_arr(-0.1, 0.1, mem_cell_ct, concat_len)\n",
    "        self.wi = rand_arr(-0.1, 0.1, mem_cell_ct, concat_len) \n",
    "        self.wf = rand_arr(-0.1, 0.1, mem_cell_ct, concat_len)\n",
    "        self.wo = rand_arr(-0.1, 0.1, mem_cell_ct, concat_len)\n",
    "        # bias terms\n",
    "        self.bg = rand_arr(-0.1, 0.1, mem_cell_ct) \n",
    "        self.bi = rand_arr(-0.1, 0.1, mem_cell_ct) \n",
    "        self.bf = rand_arr(-0.1, 0.1, mem_cell_ct) \n",
    "        self.bo = rand_arr(-0.1, 0.1, mem_cell_ct) \n",
    "        # diffs (derivative of loss function w.r.t. all parameters)\n",
    "        self.wg_diff = np.zeros((mem_cell_ct, concat_len)) \n",
    "        self.wi_diff = np.zeros((mem_cell_ct, concat_len)) \n",
    "        self.wf_diff = np.zeros((mem_cell_ct, concat_len)) \n",
    "        self.wo_diff = np.zeros((mem_cell_ct, concat_len)) \n",
    "        self.bg_diff = np.zeros(mem_cell_ct) \n",
    "        self.bi_diff = np.zeros(mem_cell_ct) \n",
    "        self.bf_diff = np.zeros(mem_cell_ct) \n",
    "        self.bo_diff = np.zeros(mem_cell_ct) \n",
    "\n",
    "    def apply_diff(self, lr = 1):\n",
    "        self.wg -= lr * self.wg_diff\n",
    "        self.wi -= lr * self.wi_diff\n",
    "        self.wf -= lr * self.wf_diff\n",
    "        self.wo -= lr * self.wo_diff\n",
    "        self.bg -= lr * self.bg_diff\n",
    "        self.bi -= lr * self.bi_diff\n",
    "        self.bf -= lr * self.bf_diff\n",
    "        self.bo -= lr * self.bo_diff\n",
    "        # reset diffs to zero\n",
    "        self.wg_diff = np.zeros_like(self.wg)\n",
    "        self.wi_diff = np.zeros_like(self.wi) \n",
    "        self.wf_diff = np.zeros_like(self.wf) \n",
    "        self.wo_diff = np.zeros_like(self.wo) \n",
    "        self.bg_diff = np.zeros_like(self.bg)\n",
    "        self.bi_diff = np.zeros_like(self.bi) \n",
    "        self.bf_diff = np.zeros_like(self.bf) \n",
    "        self.bo_diff = np.zeros_like(self.bo) \n",
    "\n",
    "class LstmState:\n",
    "    def __init__(self, mem_cell_ct, x_dim):\n",
    "        self.g = np.zeros(mem_cell_ct)\n",
    "        self.i = np.zeros(mem_cell_ct)\n",
    "        self.f = np.zeros(mem_cell_ct)\n",
    "        self.o = np.zeros(mem_cell_ct)\n",
    "        self.s = np.zeros(mem_cell_ct)\n",
    "        self.h = np.zeros(mem_cell_ct)\n",
    "        self.bottom_diff_h = np.zeros_like(self.h)\n",
    "        self.bottom_diff_s = np.zeros_like(self.s)\n",
    "    \n",
    "class LstmNode:\n",
    "    def __init__(self, lstm_param, lstm_state):\n",
    "        # store reference to parameters and to activations\n",
    "        self.state = lstm_state\n",
    "        self.param = lstm_param\n",
    "        # non-recurrent input concatenated with recurrent input\n",
    "        self.xc = None\n",
    "\n",
    "    def bottom_data_is(self, x, s_prev = None, h_prev = None):\n",
    "        # if this is the first lstm node in the network\n",
    "        if s_prev is None: s_prev = np.zeros_like(self.state.s)\n",
    "        if h_prev is None: h_prev = np.zeros_like(self.state.h)\n",
    "        # save data for use in backprop\n",
    "        self.s_prev = s_prev\n",
    "        self.h_prev = h_prev\n",
    "\n",
    "        # concatenate x(t) and h(t-1)\n",
    "        xc = np.hstack((x,  h_prev))\n",
    "        self.state.g = np.tanh(np.dot(self.param.wg, xc) + self.param.bg)\n",
    "        self.state.i = sigmoid(np.dot(self.param.wi, xc) + self.param.bi)\n",
    "        self.state.f = sigmoid(np.dot(self.param.wf, xc) + self.param.bf)\n",
    "        self.state.o = sigmoid(np.dot(self.param.wo, xc) + self.param.bo)\n",
    "        self.state.s = self.state.g * self.state.i + s_prev * self.state.f\n",
    "        self.state.h = self.state.s * self.state.o\n",
    "\n",
    "        self.xc = xc\n",
    "    \n",
    "    def top_diff_is(self, top_diff_h, top_diff_s):\n",
    "        # notice that top_diff_s is carried along the constant error carousel\n",
    "        ds = self.state.o * top_diff_h + top_diff_s\n",
    "        do = self.state.s * top_diff_h\n",
    "        di = self.state.g * ds\n",
    "        dg = self.state.i * ds\n",
    "        df = self.s_prev * ds\n",
    "\n",
    "        # diffs w.r.t. vector inside sigma / tanh function\n",
    "        di_input = sigmoid_derivative(self.state.i) * di \n",
    "        df_input = sigmoid_derivative(self.state.f) * df \n",
    "        do_input = sigmoid_derivative(self.state.o) * do \n",
    "        dg_input = tanh_derivative(self.state.g) * dg\n",
    "\n",
    "        # diffs w.r.t. inputs\n",
    "        self.param.wi_diff += np.outer(di_input, self.xc)\n",
    "        self.param.wf_diff += np.outer(df_input, self.xc)\n",
    "        self.param.wo_diff += np.outer(do_input, self.xc)\n",
    "        self.param.wg_diff += np.outer(dg_input, self.xc)\n",
    "        self.param.bi_diff += di_input\n",
    "        self.param.bf_diff += df_input       \n",
    "        self.param.bo_diff += do_input\n",
    "        self.param.bg_diff += dg_input       \n",
    "\n",
    "        # compute bottom diff\n",
    "        dxc = np.zeros_like(self.xc)\n",
    "        dxc += np.dot(self.param.wi.T, di_input)\n",
    "        dxc += np.dot(self.param.wf.T, df_input)\n",
    "        dxc += np.dot(self.param.wo.T, do_input)\n",
    "        dxc += np.dot(self.param.wg.T, dg_input)\n",
    "\n",
    "        # save bottom diffs\n",
    "        self.state.bottom_diff_s = ds * self.state.f\n",
    "        self.state.bottom_diff_h = dxc[self.param.x_dim:]\n",
    "\n",
    "class LstmNetwork():\n",
    "    def __init__(self, lstm_param):\n",
    "        self.lstm_param = lstm_param\n",
    "        self.lstm_node_list = []\n",
    "        # input sequence\n",
    "        self.x_list = []\n",
    "\n",
    "    def y_list_is(self, y_list, loss_layer):\n",
    "        \"\"\"\n",
    "        Updates diffs by setting target sequence \n",
    "        with corresponding loss layer. \n",
    "        Will *NOT* update parameters.  To update parameters,\n",
    "        call self.lstm_param.apply_diff()\n",
    "        \"\"\"\n",
    "        assert len(y_list) == len(self.x_list)\n",
    "        idx = len(self.x_list) - 1\n",
    "        # first node only gets diffs from label ...\n",
    "        loss = loss_layer.loss(self.lstm_node_list[idx].state.h, y_list[idx])\n",
    "        diff_h = loss_layer.bottom_diff(self.lstm_node_list[idx].state.h, y_list[idx])\n",
    "        # here s is not affecting loss due to h(t+1), hence we set equal to zero\n",
    "        diff_s = np.zeros(self.lstm_param.mem_cell_ct)\n",
    "        self.lstm_node_list[idx].top_diff_is(diff_h, diff_s)\n",
    "        idx -= 1\n",
    "\n",
    "        ### ... following nodes also get diffs from next nodes, hence we add diffs to diff_h\n",
    "        ### we also propagate error along constant error carousel using diff_s\n",
    "        while idx >= 0:\n",
    "            loss += loss_layer.loss(self.lstm_node_list[idx].state.h, y_list[idx])\n",
    "            diff_h = loss_layer.bottom_diff(self.lstm_node_list[idx].state.h, y_list[idx])\n",
    "            diff_h += self.lstm_node_list[idx + 1].state.bottom_diff_h\n",
    "            diff_s = self.lstm_node_list[idx + 1].state.bottom_diff_s\n",
    "            self.lstm_node_list[idx].top_diff_is(diff_h, diff_s)\n",
    "            idx -= 1 \n",
    "\n",
    "        return loss\n",
    "\n",
    "    def x_list_clear(self):\n",
    "        self.x_list = []\n",
    "\n",
    "    def x_list_add(self, x):\n",
    "        self.x_list.append(x)\n",
    "        if len(self.x_list) > len(self.lstm_node_list):\n",
    "            # need to add new lstm node, create new state mem\n",
    "            lstm_state = LstmState(self.lstm_param.mem_cell_ct, self.lstm_param.x_dim)\n",
    "            self.lstm_node_list.append(LstmNode(self.lstm_param, lstm_state))\n",
    "\n",
    "        # get index of most recent x input\n",
    "        idx = len(self.x_list) - 1\n",
    "        if idx == 0:\n",
    "            # no recurrent inputs yet\n",
    "            self.lstm_node_list[idx].bottom_data_is(x)\n",
    "        else:\n",
    "            s_prev = self.lstm_node_list[idx - 1].state.s\n",
    "            h_prev = self.lstm_node_list[idx - 1].state.h\n",
    "            self.lstm_node_list[idx].bottom_data_is(x, s_prev, h_prev)\n",
    "#\n",
    "\n",
    "\n",
    "\n",
    "class ToyLossLayer:\n",
    "    \"\"\"\n",
    "    Computes square loss with first element of hidden layer array.\n",
    "    \"\"\"\n",
    "    @classmethod\n",
    "    def loss(self, pred, label):\n",
    "        return (pred[0] - label) ** 2\n",
    "\n",
    "    @classmethod\n",
    "    def bottom_diff(self, pred, label):\n",
    "        diff = np.zeros_like(pred)\n",
    "        diff[0] = 2 * (pred[0] - label)\n",
    "        return diff\n",
    "    \n"
   ]
  },
  {
   "cell_type": "code",
   "execution_count": 239,
   "metadata": {
    "collapsed": false
   },
   "outputs": [],
   "source": [
    "def Sgsize(X):\n",
    "    MAX = max(X)\n",
    "    MIN = min(X)\n",
    "    Len = MAX-MIN\n",
    "    result = []\n",
    "    for i in X:\n",
    "        result.append((i-MIN)/float(Len))\n",
    "    return MAX,MIN,result\n",
    "\n",
    "def ReSize(MAX,MIN,X):\n",
    "    result = []\n",
    "    for i in X:\n",
    "        result.append(i*float(MAX-MIN)+MIN)\n",
    "    return result\n",
    "\n",
    "def AVG(X):\n",
    "    return sum(X)/float(len(X))\n",
    "\n",
    "def DER(X):\n",
    "    avg=AVG(X)\n",
    "    sdsq =  sum([(i - avg) ** 2 for i in X])\n",
    "    return sdsq / (len(X) - 1)\n",
    "\n",
    "def STD(X):\n",
    "    return DER(X) ** .5\n",
    "\n",
    "def Pxs(X):\n",
    "    PX=dict({})\n",
    "    L=len(X)\n",
    "    for each in X:  \n",
    "        PX[each] = (1 + PX[each])/float(L) if each in PX else 1/float(L)            \n",
    "    return PX\n",
    "        \n",
    "    \n",
    "\n",
    "def diff(X,interval=2):\n",
    "    df = list()\n",
    "    for i in range(interval,len(X)):\n",
    "        value = X[i] - X[i-interval]\n",
    "        df.append(value)\n",
    "    for each in range(interval):\n",
    "        df.insert(each,X[each])\n",
    "    return df\n",
    "\n",
    "def rediff(X,interval=2):\n",
    "    redf = list()\n",
    "    for i in range(len(X)):\n",
    "        if i<interval:redf.append(X[i])\n",
    "        else:redf.append(redf[i-interval] + X[i])\n",
    "    return redf"
   ]
  },
  {
   "cell_type": "code",
   "execution_count": 240,
   "metadata": {
    "collapsed": false
   },
   "outputs": [
    {
     "name": "stdout",
     "output_type": "stream",
     "text": [
      "3.0\n",
      "{0: 0.1234567901234568, 1: 0.1111111111111111, 2: 0.1111111111111111, 3: 0.1234567901234568, 5: 0.1234567901234568, 8: 0.1111111111111111}\n"
     ]
    }
   ],
   "source": [
    "XX=[1,0,5,2,3,0,8,5,3]\n",
    "print(AVG(XX))\n",
    "print(Pxs(XX))\n"
   ]
  },
  {
   "cell_type": "code",
   "execution_count": 206,
   "metadata": {
    "collapsed": false
   },
   "outputs": [
    {
     "name": "stdout",
     "output_type": "stream",
     "text": [
      "[0.125, 0.0, 0.625, 0.25, 0.375, 0.0, 1.0, 0.625, 0.375]\n",
      "0.004909026556126186\n"
     ]
    },
    {
     "data": {
      "text/plain": [
       "[<matplotlib.lines.Line2D at 0x7fa8496aa810>]"
      ]
     },
     "execution_count": 206,
     "metadata": {},
     "output_type": "execute_result"
    },
    {
     "data": {
      "image/png": "[encoded data removed]",
      "text/plain": [
       "<matplotlib.figure.Figure at 0x7fa8497f9390>"
      ]
     },
     "metadata": {},
     "output_type": "display_data"
    }
   ],
   "source": [
    "#XX=[1,0,5,2,3,0,8,5,3,12,0,5]\n",
    "XX=[1,0,5,2,3,0,8,5,3]\n",
    "\n",
    "YY=XX[1:] + [XX[0]]\n",
    "\n",
    "mx,nx,xx=Sgsize(XX)\n",
    "my,ny,yy=Sgsize(YY)\n",
    "\n",
    "print(xx)\n",
    "\n",
    "mem_cell_ct = 10\n",
    "x_dim = 1\n",
    "lstm_param = LstmParam(mem_cell_ct, x_dim)\n",
    "lstm_net = LstmNetwork(lstm_param)\n",
    "y_list = yy[:]\n",
    "#input_val_arr = [np.mat(XX)]\n",
    "input_val_arr = xx[:]\n",
    "\n",
    "J = []\n",
    "for cur_iter in xrange(12000):\n",
    "    for ind in range(len(y_list)):\n",
    "        lstm_net.x_list_add(input_val_arr[ind])\n",
    "    loss = lstm_net.y_list_is(y_list, ToyLossLayer)\n",
    "    J.append(loss)\n",
    "    lstm_param.apply_diff(lr=0.04)\n",
    "    lstm_net.x_list_clear()\n",
    "\n",
    "print(loss)\n",
    "plt.plot(J)"
   ]
  },
  {
   "cell_type": "code",
   "execution_count": 207,
   "metadata": {
    "collapsed": false
   },
   "outputs": [
    {
     "data": {
      "text/plain": [
       "[<matplotlib.lines.Line2D at 0x7fa84979c210>]"
      ]
     },
     "execution_count": 207,
     "metadata": {},
     "output_type": "execute_result"
    },
    {
     "data": {
      "image/png": "[encoded data removed]",
      "text/plain": [
       "<matplotlib.figure.Figure at 0x7fa84979c690>"
      ]
     },
     "metadata": {},
     "output_type": "display_data"
    }
   ],
   "source": [
    "predict=[]\n",
    "\"\"\"\n",
    "for i in lstm_net.lstm_node_list:\n",
    "    print(i.h_prev, i.state.h)\n",
    "    print(i.s_prev, i.state.s)\n",
    "\"\"\"\n",
    "\n",
    "for ind in range(len(y_list)):\n",
    "    lstm_net.x_list_add(input_val_arr[ind])\n",
    "for ind in range(len(y_list)):\n",
    "    predict.append(lstm_net.lstm_node_list[ind].state.h[0])\n",
    "\n",
    "predict.insert(0,xx[0])\n",
    "plt.plot(predict)\n",
    "plt.plot(xx)"
   ]
  },
  {
   "cell_type": "code",
   "execution_count": null,
   "metadata": {
    "collapsed": false,
    "scrolled": false
   },
   "outputs": [],
   "source": []
  },
  {
   "cell_type": "code",
   "execution_count": null,
   "metadata": {
    "collapsed": true
   },
   "outputs": [],
   "source": []
  }
 ],
 "metadata": {
  "kernelspec": {
   "display_name": "Python 2",
   "language": "python",
   "name": "python2"
  },
  "language_info": {
   "codemirror_mode": {
    "name": "ipython",
    "version": 2
   },
   "file_extension": ".py",
   "mimetype": "text/x-python",
   "name": "python",
   "nbconvert_exporter": "python",
   "pygments_lexer": "ipython2",
   "version": "2.7.13"
  }
 },
 "nbformat": 4,
 "nbformat_minor": 0
}
