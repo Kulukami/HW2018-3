{
 "cells": [
  {
   "cell_type": "markdown",
   "metadata": {},
   "source": [
    "#LSTM正向传播\n",
    "\n",
    "### sigmoid Function\n",
    "\n",
    "$\\sigma(x) =\\frac{1}{1 + e ^{-x}} $\n",
    "\n",
    "$\\begin{split}\n",
    "\\sigma '(x) &= \\frac{-e ^{-x}}{{(1 + e ^{-x})}^2} \\\\\n",
    " &= \\sigma (x) ( 1 - \\sigma (x))\n",
    "\\end{split}\n",
    "$\n",
    "\n",
    "### tanh Function\n",
    "\n",
    "$tanh(x)=\\frac{e ^{x}-e ^{-x}}{e ^{x} + e ^{-x}}  $\n",
    "\n",
    "$tanh'(x)=1-tanh^2(x)$ \n",
    "\n",
    "### LSTM Function\n",
    "\n",
    "$F_6=f^t=\\sigma (W_f*h^{t-1} + U_f * x^t +b_f)$\n",
    "\n",
    "$F_5=i^t = \\sigma (W_i * h ^{t-1} +U_i* x^t  + b_i)$\n",
    "\n",
    "$F_4=a^t = tanh( W_a *h^{t-1} + U_a *x^t +b_a)$\n",
    "\n",
    "$F_3=C^t = C^{t-1} * f^t + i ^t * a ^t$\n",
    "\n",
    "$F_2=O^t=\\sigma (W_o *h^{t-1} + U_o *x^t + b_o)$\n",
    "\n",
    "$F_1=h^t = O^t * tanh(C^t)$\n",
    "\n",
    "$F = \\tilde{y}_{(t)} = \\sigma (V*h^t + C)$\n",
    "\n",
    "$loss = (y_{(t)} - \\tilde{y}_{(t)})^2$"
   ]
  },
  {
   "cell_type": "markdown",
   "metadata": {},
   "source": [
    "#LSTM反向训练参数"
   ]
  },
  {
   "cell_type": "markdown",
   "metadata": {},
   "source": [
    "$\n",
    "\\begin{split}\n",
    "\\Delta C &= -\\alpha \\frac{\\partial loss}{\\partial C} \\\\\n",
    " & =-\\alpha \n",
    " \\frac{\\partial loss}{\\partial \\tilde{y}_{(t)}}  \n",
    " \\frac{\\partial \\tilde{y}_{(t)}}{\\partial \\sigma} \n",
    " \\frac{\\partial \\sigma}{\\partial C}\\\\\n",
    " & =2\\alpha (y_{(t)} - \\tilde{y}_{(t)}) F(1-F)\n",
    "\\end{split}\n",
    "$"
   ]
  },
  {
   "cell_type": "markdown",
   "metadata": {},
   "source": [
    "\n",
    "\n",
    "$\n",
    "\\begin{split}\n",
    "\\Delta V &= -\\alpha \\frac{\\partial loss}{\\partial V} \\\\\n",
    " & =-\\alpha \n",
    " \\frac{\\partial loss}{\\partial \\tilde{y}_{(t)}} \n",
    " \\frac{\\partial \\tilde{y}_{(t)}}{\\partial \\sigma} \n",
    " \\frac{\\partial \\sigma}{\\partial V}\\\\\n",
    " & =2\\alpha (y_{(t)} - \\tilde{y}_{(t)}) F(1-F) F_1\\\\\n",
    " & =\\Delta C F_1\n",
    "\\end{split}\n",
    "$"
   ]
  },
  {
   "cell_type": "markdown",
   "metadata": {},
   "source": [
    "$\n",
    "\\begin{split}\n",
    "\\Delta b_o &= -\\alpha \\frac{\\partial loss}{\\partial b_o} \\\\ \n",
    " & =-\\alpha \n",
    " \\frac{\\partial loss}{\\partial \\tilde{y}_{(t)}} \n",
    " \\frac{\\partial \\tilde{y}_{(t)}}{\\partial \\sigma} \n",
    " \\frac{\\partial \\sigma}{\\partial h^{t}} \n",
    " \\frac{\\partial h^{t}}{\\partial O^t} \n",
    " \\frac{\\partial O^t}{\\partial \\sigma} \n",
    " \\frac{\\partial \\sigma}{\\partial b_o}\\\\ \n",
    " & =2\\alpha (y_{(t)} - \\tilde{y}_{(t)}) F(1-F) V tanh(F_3) F_2(1-F_2 )\\\\ \n",
    " & =\\Delta C V tanh(F_3) F_2(1-F_2)\n",
    "\\end{split}\n",
    "$"
   ]
  },
  {
   "cell_type": "markdown",
   "metadata": {},
   "source": [
    "$\n",
    "\\begin{split}\n",
    "\\Delta U_o &= -\\alpha \\frac{\\partial loss}{\\partial U_o} \\\\\n",
    " & =-\\alpha \n",
    " \\frac{\\partial loss}{\\partial \\tilde{y}_{(t)}}  \n",
    " \\frac{\\partial \\tilde{y}_{(t)}}{\\partial \\sigma} \n",
    " \\frac{\\partial \\sigma}{\\partial h^{t}} \n",
    " \\frac{\\partial h^{t}}{\\partial O^t} \n",
    " \\frac{\\partial O^t}{\\partial \\sigma} \n",
    " \\frac{\\partial \\sigma}{\\partial U_o}\\\\\n",
    " & =2\\alpha (y_{(t)} - \\tilde{y}_{(t)}) F(1-F) V tanh(F_3) F_2(1-F_2) x^{t}\\\\\n",
    "  & =\\Delta b_o x^{t}\n",
    "\\end{split}\n",
    "$"
   ]
  },
  {
   "cell_type": "markdown",
   "metadata": {},
   "source": [
    "$\n",
    "\\begin{split}\n",
    "\\Delta W_o &= -\\alpha \\frac{\\partial loss}{\\partial W_o} \\\\\n",
    " & =-\\alpha \n",
    " \\frac{\\partial loss}{\\partial \\tilde{y}_{(t)}}  \n",
    " \\frac{\\partial \\tilde{y}_{(t)}}{\\partial \\sigma} \n",
    " \\frac{\\partial \\sigma}{\\partial h^{t}} \n",
    " \\frac{\\partial h^{t}}{\\partial O^t} \n",
    " \\frac{\\partial O^t}{\\partial \\sigma} \n",
    " \\frac{\\partial \\sigma}{\\partial W_o}\\\\\n",
    " & =2\\alpha (y_{(t)} - \\tilde{y}_{(t)}) F(1-F) V tanh(F_3) F_2(1-F_2) h^{t-1}\\\\\n",
    " & =\\Delta b_o h^{t-1}\n",
    "\\end{split}\n",
    "$"
   ]
  },
  {
   "cell_type": "markdown",
   "metadata": {},
   "source": [
    "$\n",
    "\\begin{split}\n",
    "\\Delta b_a &= -\\alpha \\frac{\\partial loss}{\\partial b_a} \\\\\n",
    " & =-\\alpha \n",
    " \\frac{\\partial loss}{\\partial \\tilde{y}_{(t)}}  \n",
    " \\frac{\\partial \\tilde{y}_{(t)}}{\\partial \\sigma} \n",
    " \\frac{\\partial \\sigma}{\\partial h^{t}} \n",
    " \\frac{\\partial h^{t}}{\\partial tanh} \n",
    " \\frac{\\partial tanh}{\\partial C^t} \n",
    " \\frac{\\partial C^t}{\\partial a^t} \n",
    " \\frac{\\partial a^t}{\\partial tanh} \n",
    " \\frac{\\partial tanh}{\\partial b_a}\\\\\n",
    " & =2\\alpha (y_{(t)} - \\tilde{y}_{(t)}) F(1-F) V F_2 (1-F_1 ^ 2) F_5 (1-F_4 ^ 2)\\\\\n",
    " & =\\Delta C V F_2 (1-F_1 ^ 2) F_5 (1-F_4 ^ 2)\n",
    "\\end{split}\n",
    "$"
   ]
  },
  {
   "cell_type": "markdown",
   "metadata": {},
   "source": [
    "$\n",
    "\\begin{split}\n",
    "\\Delta U_a &= -\\alpha \\frac{\\partial loss}{\\partial U_a} \\\\\n",
    " & =-\\alpha \n",
    " \\frac{\\partial loss}{\\partial \\tilde{y}_{(t)}}  \n",
    " \\frac{\\partial \\tilde{y}_{(t)}}{\\partial \\sigma} \n",
    " \\frac{\\partial \\sigma}{\\partial h^{t}} \n",
    " \\frac{\\partial h^{t}}{\\partial tanh} \n",
    " \\frac{\\partial tanh}{\\partial C^t} \n",
    " \\frac{\\partial C^t}{\\partial a^t} \n",
    " \\frac{\\partial a^t}{\\partial tanh} \n",
    " \\frac{\\partial tanh}{\\partial U_a}\\\\\n",
    " & =2\\alpha (y_{(t)} - \\tilde{y}_{(t)}) F(1-F) V F_2 (1-F_1 ^ 2) F_5(1-F_4 ^ 2) x^t \\\\\n",
    " & =\\Delta b_a x^t\n",
    "\\end{split}\n",
    "$"
   ]
  },
  {
   "cell_type": "markdown",
   "metadata": {},
   "source": [
    "$\n",
    "\\begin{split}\n",
    "\\Delta W_a &= -\\alpha \\frac{\\partial loss}{\\partial W_a} \\\\\n",
    " & =-\\alpha \n",
    " \\frac{\\partial loss}{\\partial \\tilde{y}_{(t)}}  \n",
    " \\frac{\\partial \\tilde{y}_{(t)}}{\\partial \\sigma} \n",
    " \\frac{\\partial \\sigma}{\\partial h^{t}} \n",
    " \\frac{\\partial h^{t}}{\\partial tanh} \n",
    " \\frac{\\partial tanh}{\\partial C^t} \n",
    " \\frac{\\partial C^t}{\\partial a^t} \n",
    " \\frac{\\partial a^t}{\\partial tanh} \n",
    " \\frac{\\partial tanh}{\\partial W_a}\\\\\n",
    " & =2\\alpha (y_{(t)} - \\tilde{y}_{(t)}) F(1-F) V F_2 (1-F_1 ^ 2)F_5(1-F_4 ^ 2)  h^{t-1} \\\\\n",
    " & =\\Delta b_a  h^{t-1}\n",
    "\\end{split}\n",
    "$"
   ]
  },
  {
   "cell_type": "markdown",
   "metadata": {
    "collapsed": true
   },
   "source": [
    "$\n",
    "\\begin{split}\n",
    "\\Delta b_i &= -\\alpha \\frac{\\partial loss}{\\partial W_a} \\\\\n",
    " & =-\\alpha \n",
    " \\frac{\\partial loss}{\\partial \\tilde{y}_{(t)}}  \n",
    " \\frac{\\partial \\tilde{y}_{(t)}}{\\partial \\sigma} \n",
    " \\frac{\\partial \\sigma}{\\partial h^{t}} \n",
    " \\frac{\\partial h^{t}}{\\partial tanh} \n",
    " \\frac{\\partial tanh}{\\partial C^t} \n",
    " \\frac{\\partial C^t}{\\partial i^t} \n",
    " \\frac{\\partial i^t}{\\partial \\sigma} \n",
    " \\frac{\\partial \\sigma}{\\partial b_i}\\\\\n",
    " & =2\\alpha (y_{(t)} - \\tilde{y}_{(t)})\n",
    "    F(1-F) V F_2 (1-F_3 ^ 2)F_4 F_5(1-F_5 ) \\\\\n",
    " & =\\Delta C V F_2 (1-F_3 ^ 2)F_4 F_5(1-F_5 )\n",
    "\\end{split}\n",
    "$"
   ]
  },
  {
   "cell_type": "markdown",
   "metadata": {},
   "source": [
    "$\n",
    "\\begin{split}\n",
    "\\Delta U_i &= -\\alpha \\frac{\\partial loss}{\\partial W_a} \\\\\n",
    " & =-\\alpha \n",
    " \\frac{\\partial loss}{\\partial \\tilde{y}_{(t)}}  \n",
    " \\frac{\\partial \\tilde{y}_{(t)}}{\\partial \\sigma} \n",
    " \\frac{\\partial \\sigma}{\\partial h^{t}} \n",
    " \\frac{\\partial h^{t}}{\\partial tanh} \n",
    " \\frac{\\partial tanh}{\\partial C^t} \n",
    " \\frac{\\partial C^t}{\\partial i^t} \n",
    " \\frac{\\partial i^t}{\\partial \\sigma} \n",
    " \\frac{\\partial \\sigma}{\\partial b_i}\\\\\n",
    " & =2\\alpha (y_{(t)} - \\tilde{y}_{(t)})\n",
    "    F(1-F) V F_2 (1-F_3 ^ 2)F_4 F_5(1-F_5 ) x^t\\\\\n",
    " & =\\Delta b_i x^t\n",
    "\\end{split}\n",
    "$"
   ]
  },
  {
   "cell_type": "markdown",
   "metadata": {},
   "source": [
    "$\n",
    "\\begin{split}\n",
    "\\Delta W_i &= -\\alpha \\frac{\\partial loss}{\\partial W_a} \\\\\n",
    " & =-\\alpha \n",
    " \\frac{\\partial loss}{\\partial \\tilde{y}_{(t)}}  \n",
    " \\frac{\\partial \\tilde{y}_{(t)}}{\\partial \\sigma} \n",
    " \\frac{\\partial \\sigma}{\\partial h^{t}} \n",
    " \\frac{\\partial h^{t}}{\\partial tanh} \n",
    " \\frac{\\partial tanh}{\\partial C^t} \n",
    " \\frac{\\partial C^t}{\\partial i^t} \n",
    " \\frac{\\partial i^t}{\\partial \\sigma} \n",
    " \\frac{\\partial \\sigma}{\\partial W_i}\\\\\n",
    " & =2\\alpha (y_{(t)} - \\tilde{y}_{(t)}) \n",
    "    F(1-F) V F_2 (1-F_3 ^ 2)F_4 F_5(1-F_5 )  h^{t-1} \\\\\n",
    " & =\\Delta b_i  h^{t-1}\n",
    "\\end{split}\n",
    "$"
   ]
  },
  {
   "cell_type": "markdown",
   "metadata": {},
   "source": [
    "$\n",
    "\\begin{split}\n",
    "\\Delta b_f &= -\\alpha \\frac{\\partial loss}{\\partial b_f} \\\\\n",
    " & =-\\alpha \n",
    " \\frac{\\partial loss}{\\partial \\tilde{y}_{(t)}}  \n",
    " \\frac{\\partial \\tilde{y}_{(t)}}{\\partial \\sigma} \n",
    " \\frac{\\partial \\sigma}{\\partial h^{t}} \n",
    " \\frac{\\partial h^{t}}{\\partial tanh} \n",
    " \\frac{\\partial tanh}{\\partial C^t} \n",
    " \\frac{\\partial C^t}{\\partial f^t} \n",
    " \\frac{\\partial f^t}{\\partial \\sigma} \n",
    " \\frac{\\partial \\sigma}{\\partial b_f}\\\\\n",
    " & =2\\alpha (y_{(t)} - \\tilde{y}_{(t)})\n",
    "    F(1-F) V F_2 (1-F_3 ^ 2) C^{t-1}F_5(1-F_5 ) \\\\\n",
    " & =\\Delta C V F_2 (1-F_3 ^ 2)C^{t-1}F_5(1-F_5 )\n",
    "\\end{split}\n",
    "$"
   ]
  },
  {
   "cell_type": "markdown",
   "metadata": {},
   "source": [
    "$\n",
    "\\begin{split}\n",
    "\\Delta U_f &= -\\alpha \\frac{\\partial loss}{\\partial U_f} \\\\\n",
    " & =-\\alpha \n",
    " \\frac{\\partial loss}{\\partial \\tilde{y}_{(t)}}  \n",
    " \\frac{\\partial \\tilde{y}_{(t)}}{\\partial \\sigma} \n",
    " \\frac{\\partial \\sigma}{\\partial h^{t}} \n",
    " \\frac{\\partial h^{t}}{\\partial tanh} \n",
    " \\frac{\\partial tanh}{\\partial C^t} \n",
    " \\frac{\\partial C^t}{\\partial f^t} \n",
    " \\frac{\\partial f^t}{\\partial \\sigma} \n",
    " \\frac{\\partial \\sigma}{\\partial U_f}\\\\\n",
    " & =2\\alpha (y_{(t)} - \\tilde{y}_{(t)})\n",
    "    F(1-F) V F_2 (1-F_3 ^ 2) C^{t-1}F_5(1-F_5 )x^t \\\\\n",
    " & =\\Delta b_f x^t\n",
    "\\end{split}\n",
    "$"
   ]
  },
  {
   "cell_type": "markdown",
   "metadata": {},
   "source": [
    "$\n",
    "\\begin{split}\n",
    "\\Delta W_f &= -\\alpha \\frac{\\partial loss}{\\partial W_f} \\\\\n",
    " & =-\\alpha \n",
    " \\frac{\\partial loss}{\\partial \\tilde{y}_{(t)}}  \n",
    " \\frac{\\partial \\tilde{y}_{(t)}}{\\partial \\sigma} \n",
    " \\frac{\\partial \\sigma}{\\partial h^{t}} \n",
    " \\frac{\\partial h^{t}}{\\partial tanh} \n",
    " \\frac{\\partial tanh}{\\partial C^t} \n",
    " \\frac{\\partial C^t}{\\partial f^t} \n",
    " \\frac{\\partial f^t}{\\partial \\sigma} \n",
    " \\frac{\\partial \\sigma}{\\partial W_f}\\\\\n",
    " & =2\\alpha (y_{(t)} - \\tilde{y}_{(t)})\n",
    "    F(1-F) V F_2 (1-F_3 ^ 2) C^{t-1}F_5(1-F_5 ) h^{t-1} \\\\\n",
    " & =\\Delta b_f  h^{t-1} \n",
    "\\end{split}\n",
    "$"
   ]
  },
  {
   "cell_type": "code",
   "execution_count": 1,
   "metadata": {
    "collapsed": false
   },
   "outputs": [],
   "source": [
    "import matplotlib\n",
    "from matplotlib import pyplot as plt\n",
    "%matplotlib inline\n",
    "\n",
    "from math import tanh,exp\n",
    "\n",
    "class lstmCellState():\n",
    "    def __init__(self):\n",
    "        self.Wf = [0.01,  0.01,  0.01]\n",
    "        #---------[-Wf-, -Uf-, -bf-]\n",
    "        self.Wi = [0.01,  0.01,  0.01]\n",
    "        #---------[-Wi-, -Ui-, -bi-]     \n",
    "        self.Wa = [0.01,  0.01,  0.01]\n",
    "        #---------[-Wa-, -Ua-, -ba-]       \n",
    "        self.Wo = [0.01,  0.01,  0.01]\n",
    "        #---------[-Wo-, -Uo-, -bo-]        \n",
    "        self.Wy = [0.1, 0.1]\n",
    "        #---------[-V- , -C-]        \n",
    "        self.Fi = [0.0, # F0    predict Y(t)\n",
    "                   0.0, # F1   ht\n",
    "                   0.0, # F2   Ot\n",
    "                   0.0, # F3   Ct\n",
    "                   0.0, # F4   at\n",
    "                   0.0, # F5   it\n",
    "                   0.0] # F6   ft\n",
    "\n",
    "class lstmCell():\n",
    "    def __init__(self,lrate=0.03,lround=1000):\n",
    "        self.X  = 0.0\n",
    "        self.Ct0 = 0.0\n",
    "        self.ht0 = 0.0\n",
    "        self.Ct1 = 0.0\n",
    "        self.ht1 = 0.0\n",
    "        self.Y  = 0.0\n",
    "        \n",
    "        self.lrate = lrate\n",
    "        self.lround = lround\n",
    "        \n",
    "        self.state=lstmCellState()\n",
    "\n",
    "    def sigmoid(self,x):\n",
    "        return 1. / (1. + exp(-x))   \n",
    "    \n",
    "    def sigmoid_dev(self,x):\n",
    "        return x*(1 - x)\n",
    "    \n",
    "    def tanh_dev(self,x):\n",
    "        return 1 - x **2 \n",
    "  \n",
    "    def forward(self,Xt,Ct0=None,Ht0=None):\n",
    "        self.X  = Xt\n",
    "        if Ct0:self.Ct0 = Ct0\n",
    "        if Ht0:self.ht0 = Ht0\n",
    "        \n",
    "        #ft\n",
    "        self.state.Fi[6] = self.sigmoid(self.state.Wf[0]*self.ht0+\n",
    "                                        self.state.Wf[1]*self.X+ \n",
    "                                        self.state.Wf[2])\n",
    "        #it\n",
    "        self.state.Fi[5] = self.sigmoid(self.state.Wi[0]*self.ht0+\n",
    "                                        self.state.Wi[1]*self.X+ \n",
    "                                        self.state.Wi[2]) \n",
    "        #at\n",
    "        self.state.Fi[4] = tanh(self.state.Wa[0]*self.ht0 +\n",
    "                                self.state.Wa[1]*self.X + \n",
    "                                self.state.Wa[2])  \n",
    "        #Ct\n",
    "        self.state.Fi[3] = self.Ct0*self.state.Fi[6]+\\\n",
    "                           self.state.Fi[5]*self.state.Fi[4]  \n",
    "        #Ot\n",
    "        self.state.Fi[2] = self.sigmoid(self.state.Wo[0]*self.ht0+\n",
    "                                        self.state.Wo[1]*self.X+ \n",
    "                                        self.state.Wo[2])\n",
    "        #ht\n",
    "        self.state.Fi[1] = self.state.Fi[2]*tanh(self.state.Fi[3])\n",
    "        #Yt\n",
    "        self.state.Fi[0] = self.sigmoid(self.state.Wy[0]*self.state.Fi[1]+\n",
    "                                        self.state.Wy[1])         \n",
    "        self.Y = self.state.Fi[0]\n",
    "        self.Ct1 = self.state.Fi[3]\n",
    "        self.ht1 = self.state.Fi[1]\n",
    "    \n",
    "    def backward(self,Y):\n",
    "        Err = Y - self.Y\n",
    "        \n",
    "        D_C = 2 * self.lrate * Err * self.sigmoid_dev(self.state.Fi[0])\n",
    "        D_V = D_C * self.state.Fi[1]\n",
    "        \n",
    "        Dtmp0 = D_C * self.state.Wy[0]\n",
    "        \n",
    "        D_bo = Dtmp0 * tanh(self.state.Fi[3]) * self.sigmoid_dev(self.state.Fi[2])\n",
    "        D_Uo = D_bo * self.X\n",
    "        D_Wo = D_bo * self.ht0\n",
    "        \n",
    "        D_ba = Dtmp0 *  self.tanh_dev(self.state.Fi[1]) *\\\n",
    "               self.state.Fi[5] * self.tanh_dev(self.state.Fi[4])\n",
    "        D_Ua = D_ba * self.X\n",
    "        D_Wa = D_ba * self.ht0\n",
    "        \n",
    "        Dtmp1 = Dtmp0 * self.state.Fi[2] *\\\n",
    "               self.tanh_dev(self.state.Fi[3]) * self.sigmoid_dev(self.state.Fi[5])\n",
    "        \n",
    "        D_bi = Dtmp1 * self.state.Fi[4] \n",
    "        D_Ui = D_bi * self.X\n",
    "        D_Wi = D_bi * self.ht0\n",
    "        \n",
    "        D_bf = Dtmp1 * self.Ct0  \n",
    "        D_Uf = D_bf * self.X\n",
    "        D_Wf = D_bf * self.ht0\n",
    "        \n",
    "        self.state.Wf[0] += D_Wf\n",
    "        self.state.Wf[1] += D_Uf\n",
    "        self.state.Wf[2] += D_bf\n",
    "        \n",
    "        self.state.Wi[0] += D_Wi\n",
    "        self.state.Wi[1] += D_Ui\n",
    "        self.state.Wi[2] += D_bi\n",
    "        \n",
    "        self.state.Wo[0] += D_Wo\n",
    "        self.state.Wo[1] += D_Uo\n",
    "        self.state.Wo[2] += D_bo\n",
    "        \n",
    "        self.state.Wa[0] += D_Wa\n",
    "        self.state.Wa[1] += D_Ua\n",
    "        self.state.Wa[2] += D_ba\n",
    "        \n",
    "        self.state.Wy[0] += D_V\n",
    "        self.state.Wy[1] += D_C\n",
    "    \n",
    "    def train(self,Serie):\n",
    "        for loop in xrange(self.lround):\n",
    "            for i in range(len(Serie)-1):\n",
    "                if loop == 0:self.forward(Serie[i])\n",
    "                else:self.forward(Serie[i],self.Ct1,self.ht1)\n",
    "                self.backward(Serie[i+1])\n",
    "                \n",
    "    def train2(self,X,Y):\n",
    "        assert(len(X)==len(Y))\n",
    "        for loop in xrange(self.lround):\n",
    "            for i in range(len(X)):\n",
    "                if loop == 0:self.forward(X[i])\n",
    "                else:self.forward(X[i],self.Ct1,self.ht1)\n",
    "                self.backward(Y[i])\n"
   ]
  },
  {
   "cell_type": "code",
   "execution_count": 12,
   "metadata": {
    "collapsed": false
   },
   "outputs": [
    {
     "name": "stdout",
     "output_type": "stream",
     "text": [
      "(600, 600)\n"
     ]
    },
    {
     "data": {
      "text/plain": [
       "[<matplotlib.lines.Line2D at 0x7f59024da710>]"
      ]
     },
     "execution_count": 12,
     "metadata": {},
     "output_type": "execute_result"
    },
    {
     "data": {
      "image/png": "[encoded data removed]",
      "text/plain": [
       "<matplotlib.figure.Figure at 0x7f59024fc790>"
      ]
     },
     "metadata": {},
     "output_type": "display_data"
    }
   ],
   "source": [
    "import random\n",
    "x = [random.random() for i in xrange(600)]\n",
    "y = [ 0 if i<0.5 else 1 for i in x]\n",
    "\n",
    "print(len(x),len(y))\n",
    "\n",
    "Cell_1 = lstmCell(0.03,3000)\n",
    "\n",
    "Cell_1.train2(x,y)\n",
    "\n",
    "x = [0.1,0.1,0.4,0.59,0.6,0.99,0.0]\n",
    "y = []\n",
    "for i in range(len(x)):\n",
    "    Cell_1.forward(x[i],Cell_1.Ct1,Cell_1.ht1)\n",
    "    y.append(Cell_1.Y.real)\n",
    "\n",
    "plt.figure(figsize=(20,10))\n",
    "plt.plot(x)\n",
    "plt.plot(y)"
   ]
  },
  {
   "cell_type": "code",
   "execution_count": 368,
   "metadata": {
    "collapsed": true
   },
   "outputs": [],
   "source": [
    "#Cell_1.train(X)"
   ]
  },
  {
   "cell_type": "code",
   "execution_count": 401,
   "metadata": {
    "collapsed": false
   },
   "outputs": [
    {
     "data": {
      "text/plain": [
       "[<matplotlib.lines.Line2D at 0x7ff2a1450990>]"
      ]
     },
     "execution_count": 401,
     "metadata": {},
     "output_type": "execute_result"
    },
    {
     "data": {
      "image/png": "[encoded data removed]",
      "text/plain": [
       "<matplotlib.figure.Figure at 0x7ff2a1475850>"
      ]
     },
     "metadata": {},
     "output_type": "display_data"
    }
   ],
   "source": [
    "import random\n",
    "Cell_1 = lstmCell(0.06,40000)\n",
    "\n",
    "#x = [0.1, 0.2, 0.0, 0.2 ,0.1 ,0.3, 0.2, 0.4] *3\n",
    "x = [random.random() for i in range(16)]\n",
    "#x = [0.1, 0.2, 0.0, 0.2] *3\n",
    "\n",
    "Cell_1.train(x)\n",
    "\n",
    "y = []\n",
    "\n",
    "for i in range(len(x)):\n",
    "    Cell_1.forward(x[i],Cell_1.Ct1,Cell_1.ht1)\n",
    "    y.append(Cell_1.Y.real)\n",
    "\n",
    "plt.figure(figsize=(20,10))\n",
    "plt.plot(x)\n",
    "y.insert(0,x[0])\n",
    "\n",
    "plt.plot(y)\n",
    "plt.plot(x)"
   ]
  },
  {
   "cell_type": "code",
   "execution_count": null,
   "metadata": {
    "collapsed": true
   },
   "outputs": [],
   "source": []
  },
  {
   "cell_type": "code",
   "execution_count": 39,
   "metadata": {
    "collapsed": true
   },
   "outputs": [],
   "source": [
    "# coding=utf-8\n",
    "import sys\n",
    "import os\n",
    "import time\n",
    "\n",
    "class prePro():\n",
    "    def __init__(self,ecsDataPath,inputFilePath,resultFilePath):        \n",
    "        InputInfos=self.readInput(inputFilePath)\n",
    "        self.phsDev=InputInfos[0] # (int(cpu),int(ram),int(disk))\n",
    "        self.virDevs=InputInfos[1]# dict[ID]:(int(cpus),int(rams))\n",
    "        self.firstCare=InputInfos[2]# CPU or MEM\n",
    "        self.predicStrTime=InputInfos[3]# timestamp\n",
    "        self.predicEndTime=InputInfos[4]# timestamp\n",
    "        \n",
    "        self.predicLength=self.predicEndTime-self.predicStrTime\n",
    "        \n",
    "        self.pool=[[],[],[],[],[],\n",
    "                   [],[],[],[],[],\n",
    "                   [],[],[],[],[]]\n",
    "\n",
    "        self.legi={\"flavor1\":0,\"flavor2\":1,\"flavor3\":2,\"flavor4\":3,\n",
    "                   \"flavor5\":4,\"flavor6\":5,\"flavor7\":6,\"flavor8\":7,\n",
    "                   \"flavor9\":8,\"flavor10\":9,\"flavor11\":10,\"flavor12\":11,\n",
    "                   \"flavor13\":12,\"flavor14\":13,\"flavor15\":14}\n",
    "        # Counts of flavor0 ~ flavor15\n",
    "        with open(ecsDataPath, 'r') as f:\n",
    "            lines = f.readlines()  \n",
    "        self.startime=self.date2read(lines[0].strip().split('\\t')[2])\n",
    "        self.endstime=self.date2read(lines[-1].strip().split('\\t')[2])+86400\n",
    "        for line in lines:\n",
    "            self.mkpool(line)\n",
    "        \n",
    "        #print(self.pool)\n",
    "        #self.results=self.predict()\n",
    "        #print(self.results)\n",
    "        #self.putPhs(resultFilePath)\n",
    "        \n",
    "    def date2read(self,dt):\n",
    "        dt = dt.split()[0]\n",
    "        return time.mktime(time.strptime(dt,'%Y-%m-%d'))    \n",
    "    \n",
    "    def readTime(self,timeStr):\n",
    "        return time.mktime(time.strptime(timeStr,'%Y-%m-%d %H:%M:%S'))\n",
    "\n",
    "    def time2read(self,dt):\n",
    "        dt = dt.split('\\t')[0]\n",
    "        return time.mktime(time.strptime(dt,'%Y-%m-%d %H:%M:%S'))\n",
    "\n",
    "    def timeMh(self,d1,d2):\n",
    "        #return int((d1-d2)/604800) #a week\n",
    "        #return int((d1-d2)/3600) #a hour\n",
    "        #return int((d1-d2)/(self.predicLength*0.25)) #a day\n",
    "        return int((d1-d2)/(self.predicLength*0.5)) #a day\n",
    "\n",
    "    def readInput(self,inputFilePath):\n",
    "        if os.path.exists(inputFilePath):\n",
    "            with open(inputFilePath,'r') as f:\n",
    "                cpu,ram,disk=f.readline().strip().split()\n",
    "                f.readline()\n",
    "                phsDev=(int(cpu),int(ram),int(disk))\n",
    "                virDevCount=int(f.readline().strip())\n",
    "                virDevs={}\n",
    "                for i in range(virDevCount):\n",
    "                    Id,cpus,rams=f.readline().strip().split()\n",
    "                    virDevs[Id]=(int(cpus),int(rams))\n",
    "                f.readline()\n",
    "                firstCare=f.readline().strip()\n",
    "                f.readline()\n",
    "                predicStrTime=self.readTime(f.readline().strip())\n",
    "                predicEndTime=self.readTime(f.readline().strip())\n",
    "                #print(phsDev,virDevs,firstCare,predicStrTime,predicEndTime)\n",
    "            return phsDev,virDevs,firstCare,predicStrTime,predicEndTime\n",
    "\n",
    "        else:\n",
    "            print('file not exist: ' + file_path)\n",
    "            return None\n",
    "    \n",
    "    def mkpool(self,raw):\n",
    "        flavor,tm=raw.strip().split(\"\\t\")[1:]\n",
    "        TM=self.time2read(tm)\n",
    "        if flavor in self.virDevs:\n",
    "            hourTM=self.timeMh(TM,self.startime)\n",
    "            while hourTM - len(self.pool[self.legi[flavor]]) >= 0:\n",
    "                self.pool[self.legi[flavor]].append(0)       \n",
    "            self.pool[self.legi[flavor]][hourTM]+=1\n",
    "            \n",
    "    def predict(self):\n",
    "        predicts={}\n",
    "        predTime=self.predicEndTime - self.predicStrTime\n",
    "        dataTime=self.endstime-self.startime     \n",
    "        for i in self.virDevs:\n",
    "            Cell_i = lstmCell(0.008,20000)\n",
    "            tmpList=self.pool[self.legi[i]]\n",
    "            M,r=MnSize(tmpList)\n",
    "            \n",
    "            Datas[each]=[M,r]\n",
    "            Cell_i.train(r)\n",
    "            Cell_i.forward(tmpList[-1],Cell_i.Ct1,Cell_i.ht1)\n",
    "            Y1 = int(round(Cell_i.Y*M))\n",
    "            Cell_i.forward(Cell_i.Y,Cell_i.Ct1,Cell_i.ht1)\n",
    "            Y2 = int(round(Cell_i.Y*M))\n",
    "            \n",
    "            counts=Y1+Y2\n",
    "            predicts[i]=counts\n",
    "            \n",
    "        return predicts\n",
    "\n",
    "    def putPhs(self,resultFile):\n",
    "        results=self.results.copy()\n",
    "        Hdev=list(self.phsDev)\n",
    "        HDs={0:list(Hdev[:2])}\n",
    "        HDf={0:{\"flavor1\":0,\"flavor2\":0,\"flavor3\":0,\"flavor4\":0,\"flavor5\":0,\n",
    "                \"flavor6\":0,\"flavor7\":0,\"flavor8\":0,\"flavor9\":0,\"flavor10\":0,\n",
    "                \"flavor11\":0,\"flavor12\":0,\"flavor13\":0,\"flavor14\":0,\"flavor15\":0}}\n",
    "\n",
    "        def selectHard(hdf,hds,dev):\n",
    "            for i in hds:\n",
    "                if hds[i][0] > self.virDevs[dev][0] and\\\n",
    "                   hds[i][1] > self.virDevs[dev][1]/1024.0:\n",
    "                    return i\n",
    "\n",
    "            hds[len(hds)]=list(Hdev[:2])\n",
    "            hdf[len(hdf)]={\"flavor1\":0,\"flavor2\":0,\"flavor3\":0,\"flavor4\":0,\n",
    "                           \"flavor5\":0,\"flavor6\":0,\"flavor7\":0,\"flavor8\":0,\n",
    "                           \"flavor9\":0,\"flavor10\":0,\"flavor11\":0,\"flavor12\":0,\n",
    "                           \"flavor13\":0,\"flavor14\":0,\"flavor15\":0}\n",
    "            return len(hds)-1\n",
    "\n",
    "        def isHave(predev=self.results):\n",
    "            for i in predev:\n",
    "                if predev[i]>0:\n",
    "                    return True\n",
    "            return False\n",
    "\n",
    "        def genKeys(predev=self.results):\n",
    "            cpukeys = [\"flavor15\",\"flavor14\",\"flavor13\",\"flavor12\",\"flavor11\",\n",
    "                    \"flavor10\",\"flavor9\",\"flavor8\",\"flavor7\",\"flavor6\",\n",
    "                    \"flavor5\",\"flavor4\",\"flavor3\",\"flavor2\",\"flavor1\"]\n",
    "            memkeys = [\"flavor15\",\"flavor14\",\"flavor12\",\"flavor13\",\"flavor11\",\n",
    "                    \"flavor9\",\"flavor10\",\"flavor8\",\"flavor6\",\"flavor7\",\n",
    "                    \"flavor5\",\"flavor3\",\"flavor4\",\"flavor2\",\"flavor1\"]\n",
    "\n",
    "            if self.firstCare == \"CPU\":keys=cpukeys\n",
    "            if self.firstCare == \"MEM\":keys=memkeys\n",
    "\n",
    "            res = []\n",
    "            for key in keys:\n",
    "                if key in predev.keys():\n",
    "                    for i in range(predev[key]):\n",
    "                        res.append(key)\n",
    "            return res\n",
    "\n",
    "        def sv(hdf=HDf,hds=HDs,predev=results):\n",
    "            keys = genKeys()\n",
    "            while isHave(predev):\n",
    "                isPlace = False\n",
    "                for i in hds:\n",
    "                    for key in keys:\n",
    "                        if predev[key] > 0 and hds[i][0] >= self.virDevs[key][0]\\\n",
    "                           and hds[i][1] >= self.virDevs[key][1]/1024.0:\n",
    "                            cpu,ram=self.virDevs[key]\n",
    "                            hds[i][0] -= cpu\n",
    "                            hds[i][1] -= ram/1024.0\n",
    "                            hdf[i][key] += 1\n",
    "                            predev[key] -= 1\n",
    "                            keys.remove(key)\n",
    "                            isPlace = True\n",
    "\n",
    "                if isPlace == False :\n",
    "                    hds[len(hds)]=Hdev[:]\n",
    "                    hdf[len(hdf)]={\"flavor1\":0,\"flavor2\":0,\"flavor3\":0,\"flavor4\":0,\n",
    "                        \"flavor5\":0,\"flavor6\":0,\"flavor7\":0,\"flavor8\":0,\n",
    "                        \"flavor9\":0,\"flavor10\":0,\"flavor11\":0,\"flavor12\":0,\n",
    "                        \"flavor13\":0,\"flavor14\":0,\"flavor15\":0}\n",
    "\n",
    "        f=open(resultFile,\"w\")\n",
    "        totals = int(sum([i for i in results.values()]))\n",
    "        f.writelines([str(totals),'\\n'])\n",
    "\n",
    "        for ID,Count in results.iteritems():\n",
    "            f.writelines([ID,\" \",str(int(Count)),'\\n'])\n",
    "        sv()\n",
    "        f.writelines(['\\n'])\n",
    "\n",
    "        f.writelines([str(len(HDf)),'\\n'])\n",
    "        for each in HDf:\n",
    "            f.writelines([str(each+1)])\n",
    "            for i in HDf[each]:\n",
    "                if i in results:\n",
    "                    f.writelines([' ',i,' ',str(int(HDf[each][i]))])\n",
    "            f.writelines(['\\n'])\n",
    "        f.close()"
   ]
  },
  {
   "cell_type": "code",
   "execution_count": 40,
   "metadata": {
    "collapsed": false
   },
   "outputs": [],
   "source": [
    "# coding=utf-8\n",
    "import sys\n",
    "import os\n",
    "import time\n",
    "\n",
    "\n",
    "def MnSize(X):\n",
    "    result=[]\n",
    "    M=max(X)\n",
    "    for i in X:\n",
    "        result.append(i/float(M))\n",
    "    return M,result\n",
    "\n",
    "ecsDataPath = \"example/TrainData_2015.1.1_2015.2.19.txt\"\n",
    "inputFilePath = \"example/inputFile\"\n",
    "resultFilePath = \"example/outputFile\"\n",
    "result=prePro(ecsDataPath,inputFilePath,resultFilePath)\n",
    "\n"
   ]
  },
  {
   "cell_type": "code",
   "execution_count": 41,
   "metadata": {
    "collapsed": true
   },
   "outputs": [],
   "source": [
    "def AVG(X):\n",
    "    return sum(X)/float(len(X))\n",
    "\n",
    "def STD(X):\n",
    "    avg=AVG(X)\n",
    "    sdsq =  sum([(i - avg) ** 2 for i in X])\n",
    "    return (sdsq / (len(X) - 1)) ** .5\n",
    "\n",
    "def diff(X,interval=2):\n",
    "    df = list()\n",
    "    for i in range(interval,len(X)):\n",
    "        value = X[i] - X[i-interval]\n",
    "        df.append(value)\n",
    "    for each in range(interval):\n",
    "        df.insert(each,X[each])\n",
    "    return df\n",
    "\n",
    "def rediff(X,interval=2):\n",
    "    redf = list()\n",
    "    for i in range(len(X)):\n",
    "        if i<interval:redf.append(X[i])\n",
    "        else:redf.append(redf[i-interval] + X[i])\n",
    "    return redf\n",
    "\n",
    "def Sgsize(X):\n",
    "    MAX = max(X)\n",
    "    MIN = min(X)\n",
    "    Len = MAX-MIN\n",
    "    result = []\n",
    "    for i in X:\n",
    "        result.append((i-MIN)/float(Len))\n",
    "    return MAX,MIN,result\n",
    "\n",
    "def ReSize(MAX,MIN,X):\n",
    "    result = []\n",
    "    for i in X:\n",
    "        result.append(i*float(MAX-MIN)+MIN)\n",
    "    return result"
   ]
  },
  {
   "cell_type": "code",
   "execution_count": 42,
   "metadata": {
    "collapsed": false
   },
   "outputs": [
    {
     "name": "stdout",
     "output_type": "stream",
     "text": [
      "{'flavor8': [2, 2, 1, 4, 5, 4, 0, 1, 5, 1, 13, 3, 7, 28], 'flavor5': [0, 0, 0, 14, 1, 3, 0, 2, 1, 4, 3, 1, 3]}\n"
     ]
    }
   ],
   "source": [
    "Datas={}\n",
    "for each in result.virDevs:\n",
    "    tmpList=result.pool[result.legi[each]]\n",
    "    #M,r=MnSize(tmpList)\n",
    "    #Datas[each]=[M,r]\n",
    "    Datas[each]=tmpList\n",
    "print Datas"
   ]
  },
  {
   "cell_type": "code",
   "execution_count": 43,
   "metadata": {
    "collapsed": false
   },
   "outputs": [
    {
     "name": "stdout",
     "output_type": "stream",
     "text": [
      "[0, 0, 0, 14, 1, 3, 0, 2, 1, 4, 3, 1, 3]\n",
      "\n",
      "[0.0, 0.0, 0.0, 1.0, 0.07142857142857142, 0.21428571428571427, 0.0, 0.14285714285714285, 0.07142857142857142, 0.2857142857142857, 0.21428571428571427, 0.07142857142857142, 0.21428571428571427]\n",
      "[0.0, 0.0, 0.0, 14.0, 1.0, 3.0, 0.0, 2.0, 1.0, 4.0, 3.0, 1.0, 3.0]\n"
     ]
    }
   ],
   "source": [
    "\n",
    "print Datas['flavor5']\n",
    "print\n",
    "M,N,p = Sgsize(Datas['flavor5'])\n",
    "print p\n",
    "\n",
    "print ReSize(M,N,p)"
   ]
  },
  {
   "cell_type": "code",
   "execution_count": 44,
   "metadata": {
    "collapsed": false
   },
   "outputs": [
    {
     "data": {
      "text/plain": [
       "[<matplotlib.lines.Line2D at 0x7f5900369810>]"
      ]
     },
     "execution_count": 44,
     "metadata": {},
     "output_type": "execute_result"
    },
    {
     "data": {
      "image/png": "[encoded data removed]",
      "text/plain": [
       "<matplotlib.figure.Figure at 0x7f5900690a10>"
      ]
     },
     "metadata": {},
     "output_type": "display_data"
    }
   ],
   "source": [
    "YY = diff(Datas['flavor5'],2)\n",
    "plt.plot(YY)"
   ]
  },
  {
   "cell_type": "code",
   "execution_count": 71,
   "metadata": {
    "collapsed": false
   },
   "outputs": [
    {
     "data": {
      "text/plain": [
       "[<matplotlib.lines.Line2D at 0x7f58faf97e50>]"
      ]
     },
     "execution_count": 71,
     "metadata": {},
     "output_type": "execute_result"
    },
    {
     "data": {
      "image/png": "[encoded data removed]",
      "text/plain": [
       "<matplotlib.figure.Figure at 0x7f58fb023550>"
      ]
     },
     "metadata": {},
     "output_type": "display_data"
    }
   ],
   "source": [
    "YY = diff(Datas['flavor5'],3)\n",
    "#plt.plot(YY)\n",
    "M,N,p = Sgsize(YY)\n",
    "\n",
    "plt.plot(p)\n",
    "C1 = lstmCell(0.03,50000)\n",
    "C1.train(p)\n",
    "yy = []\n",
    "for i in p:\n",
    "    C1.forward(i,C1.Ct1,C1.ht1)\n",
    "    yy.append(C1.Y)\n",
    "\n",
    "yy.insert(0,p[0])\n",
    "plt.plot(yy)"
   ]
  },
  {
   "cell_type": "code",
   "execution_count": 56,
   "metadata": {
    "collapsed": false
   },
   "outputs": [
    {
     "data": {
      "text/plain": [
       "[<matplotlib.lines.Line2D at 0x7f58fbab6750>]"
      ]
     },
     "execution_count": 56,
     "metadata": {},
     "output_type": "execute_result"
    },
    {
     "data": {
      "image/png": "[encoded data removed]",
      "text/plain": [
       "<matplotlib.figure.Figure at 0x7f5900381810>"
      ]
     },
     "metadata": {},
     "output_type": "display_data"
    }
   ],
   "source": [
    "avg = AVG(Datas['flavor5'])\n",
    "std = STD(Datas['flavor5'])\n",
    "XX = []\n",
    "for each in Datas['flavor5']:\n",
    "    XX.append((each-avg) / std)\n",
    "plt.plot(XX)"
   ]
  },
  {
   "cell_type": "code",
   "execution_count": 33,
   "metadata": {
    "collapsed": false
   },
   "outputs": [],
   "source": [
    "Cells={}\n",
    "for i in result.virDevs:\n",
    "    Cell_i = lstmCell(0.3,20000)\n",
    "    Cell_i.train(Datas[i])\n",
    "    Cells[i]=Cell_i"
   ]
  },
  {
   "cell_type": "code",
   "execution_count": 34,
   "metadata": {
    "collapsed": false
   },
   "outputs": [
    {
     "name": "stdout",
     "output_type": "stream",
     "text": [
      "[1, 1, 1, 1, 1, 0, 0, 4, 4, 1, 2, 2, 0, 0, 0, 1, 5, 0, 0, 1, 12, 1, 3, 0, 7, 0, 1, 27]\n",
      "[1, 1, 1, 1, 1, 0, 0, 4, 4, 1, 2, 2, 0, 0, 0, 1, 5, 0, 0, 1, 12, 1, 3, 0, 7, 0, 1, 27]\n"
     ]
    },
    {
     "data": {
      "text/plain": [
       "[<matplotlib.lines.Line2D at 0x7f59007b5f50>]"
      ]
     },
     "execution_count": 34,
     "metadata": {},
     "output_type": "execute_result"
    },
    {
     "data": {
      "image/png": "[encoded data removed]",
      "text/plain": [
       "<matplotlib.figure.Figure at 0x7f59007b5d10>"
      ]
     },
     "metadata": {},
     "output_type": "display_data"
    }
   ],
   "source": [
    "x = Datas['flavor8'][:]\n",
    "print(x)\n",
    "y = []\n",
    "for each in x:\n",
    "    Cells['flavor8'].forward(each,Cells['flavor8'].Ct1,Cells['flavor8'].ht1)\n",
    "    #print Cell_1.ht1\n",
    "    y.append(Cells['flavor8'].Y.real)\n",
    "    \n",
    "plt.plot(y)\n",
    "y.insert(0,x[0])\n",
    "print(x)\n",
    "\n",
    "plt.plot(x)"
   ]
  },
  {
   "cell_type": "code",
   "execution_count": 253,
   "metadata": {
    "collapsed": false
   },
   "outputs": [
    {
     "data": {
      "text/plain": [
       "[<matplotlib.lines.Line2D at 0x7ff2a939a110>]"
      ]
     },
     "execution_count": 253,
     "metadata": {},
     "output_type": "execute_result"
    },
    {
     "data": {
      "image/png": "[encoded data removed]",
      "text/plain": [
       "<matplotlib.figure.Figure at 0x7ff2a939a2d0>"
      ]
     },
     "metadata": {},
     "output_type": "display_data"
    }
   ],
   "source": [
    "x = Datas['flavor5'][1][:]\n",
    "y = []\n",
    "for each in x:\n",
    "    Cells['flavor8'].forward(each,Cells['flavor8'].Ct1,Cells['flavor8'].ht1)\n",
    "    #print Cell_1.ht1\n",
    "    y.append(Cells['flavor8'].Y.real)\n",
    "\n",
    "plt.plot(x)\n",
    "y.insert(0,x[0])\n",
    "x.extend(y)\n",
    "\n",
    "plt.plot(x)"
   ]
  },
  {
   "cell_type": "code",
   "execution_count": 186,
   "metadata": {
    "collapsed": false
   },
   "outputs": [
    {
     "name": "stdout",
     "output_type": "stream",
     "text": [
      "[[0, 0, 0, 0, 0, 0, 0, 14, 0, 1, 2, 1, 0, 0, 0, 2, 1, 0, 1, 3, 2, 1, 1, 0, 0, 3], [1, 1, 1, 1, 1, 0, 0, 4, 4, 1, 2, 2, 0, 0, 0, 1, 5, 0, 0, 1, 12, 1, 3, 0, 7, 0, 1, 27]]\n"
     ]
    },
    {
     "data": {
      "image/png": "[encoded data removed]",
      "text/plain": [
       "<matplotlib.figure.Figure at 0x7ff2aaac3e90>"
      ]
     },
     "metadata": {},
     "output_type": "display_data"
    }
   ],
   "source": [
    "Datas=[]\n",
    "for each in result.pool:\n",
    "    if each != []:Datas.append(each)\n",
    "print(Datas)\n",
    "plt.figure(figsize=(20,10))\n",
    "\n",
    "for i in xrange(len(Datas)):\n",
    "    x = Datas[i][:]\n",
    "    y = []\n",
    "    for each in Datas[i]:\n",
    "        Cells[i].forward(each,Cells[i].Ct1,Cells[i].ht1)\n",
    "        #print Cell_1.ht1\n",
    "        y.append(Cells[i].Y.real)\n",
    "    plt.plot(x)\n",
    "    y.insert(0,x[0])\n",
    "    x.extend(y)\n",
    "\n",
    "    plt.plot(x)"
   ]
  },
  {
   "cell_type": "code",
   "execution_count": null,
   "metadata": {
    "collapsed": true
   },
   "outputs": [],
   "source": []
  }
 ],
 "metadata": {
  "kernelspec": {
   "display_name": "Python 2",
   "language": "python",
   "name": "python2"
  },
  "language_info": {
   "codemirror_mode": {
    "name": "ipython",
    "version": 2
   },
   "file_extension": ".py",
   "mimetype": "text/x-python",
   "name": "python",
   "nbconvert_exporter": "python",
   "pygments_lexer": "ipython2",
   "version": "2.7.13"
  }
 },
 "nbformat": 4,
 "nbformat_minor": 0
}
