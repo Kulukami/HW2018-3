{
 "cells": [
  {
   "cell_type": "markdown",
   "metadata": {},
   "source": [
    "#LSTM正向传播\n",
    "\n",
    "$\\sigma(x) =\\frac{1}{1 + e ^x} $\n",
    "\n",
    "$F_6=f^t=\\sigma (W_f*h^{t-1} + U_f * x^t +b_f)$\n",
    "\n",
    "$F_5=i^t = \\sigma (W_i * h ^{t-1} +U_i* x^t  + b_i)$\n",
    "\n",
    "$F_4=a^t = tanh( W_a *h^{t-1} + U_a *x^t +b_a)$\n",
    "\n",
    "$F_3=C^t = C^{t-1} * f^t + i ^t * a ^t$\n",
    "\n",
    "$F_2=O^t=\\sigma (W_o *h^{t-1} + U_o *x^t + b_o)$\n",
    "\n",
    "$F_1=h^t = O^t * tanh(C^t)$\n",
    "\n",
    "$F = \\tilde{y}_{(t)} = \\sigma (V*h^t + C)$\n",
    "\n",
    "$loss = (y_{(t)} - \\tilde{y}_{(t)})^2$"
   ]
  },
  {
   "cell_type": "markdown",
   "metadata": {},
   "source": [
    "#LSTM反向训练参数"
   ]
  },
  {
   "cell_type": "markdown",
   "metadata": {},
   "source": [
    "$\n",
    "\\begin{split}\n",
    "\\Delta C &= -\\alpha \\frac{\\partial loss}{\\partial C} \\\\\n",
    " & =-\\alpha \n",
    " \\frac{\\partial loss}{\\partial \\tilde{y}_{(t)}}  \n",
    " \\frac{\\partial \\tilde{y}_{(t)}}{\\partial \\sigma} \n",
    " \\frac{\\partial \\sigma}{\\partial C}\\\\\n",
    " & =2\\alpha (y_{(t)} - \\tilde{y}_{(t)}) F(1-F)\n",
    "\\end{split}\n",
    "$"
   ]
  },
  {
   "cell_type": "markdown",
   "metadata": {},
   "source": [
    "\n",
    "\n",
    "$\n",
    "\\begin{split}\n",
    "\\Delta V &= -\\alpha \\frac{\\partial loss}{\\partial V} \\\\\n",
    " & =-\\alpha \n",
    " \\frac{\\partial loss}{\\partial \\tilde{y}_{(t)}} \n",
    " \\frac{\\partial \\tilde{y}_{(t)}}{\\partial \\sigma} \n",
    " \\frac{\\partial \\sigma}{\\partial V}\\\\\n",
    " & =2\\alpha (y_{(t)} - \\tilde{y}_{(t)}) F(1-F) F_1\\\\\n",
    " & =\\Delta C F_1\n",
    "\\end{split}\n",
    "$"
   ]
  },
  {
   "cell_type": "markdown",
   "metadata": {},
   "source": [
    "$\n",
    "\\begin{split}\n",
    "\\Delta b_o &= -\\alpha \\frac{\\partial loss}{\\partial b_o} \\\\\n",
    " & =-\\alpha \n",
    " \\frac{\\partial loss}{\\partial \\tilde{y}_{(t)}}  \n",
    " \\frac{\\partial \\tilde{y}_{(t)}}{\\partial \\sigma} \n",
    " \\frac{\\partial \\sigma}{\\partial h^{t}} \n",
    " \\frac{\\partial h^{t}}{\\partial O^t} \n",
    " \\frac{\\partial O^t}{\\partial \\sigma} \n",
    " \\frac{\\partial \\sigma}{\\partial b_o}\\\\\n",
    " & =2\\alpha (y_{(t)} - \\tilde{y}_{(t)}) F(1-F) V tanh(F_3) F_2(1-F_2)\\\\\n",
    " & =\\Delta C V tanh(F_3) F_2(1-F_2)\n",
    "\\end{split}\n",
    "$"
   ]
  },
  {
   "cell_type": "markdown",
   "metadata": {},
   "source": [
    "$\n",
    "\\begin{split}\n",
    "\\Delta U_o &= -\\alpha \\frac{\\partial loss}{\\partial U_o} \\\\\n",
    " & =-\\alpha \n",
    " \\frac{\\partial loss}{\\partial \\tilde{y}_{(t)}}  \n",
    " \\frac{\\partial \\tilde{y}_{(t)}}{\\partial \\sigma} \n",
    " \\frac{\\partial \\sigma}{\\partial h^{t}} \n",
    " \\frac{\\partial h^{t}}{\\partial O^t} \n",
    " \\frac{\\partial O^t}{\\partial \\sigma} \n",
    " \\frac{\\partial \\sigma}{\\partial U_o}\\\\\n",
    " & =2\\alpha (y_{(t)} - \\tilde{y}_{(t)}) F(1-F) V tanh(F_3) F_2(1-F_2) x^{t}\\\\\n",
    "  & =\\Delta b_o x^{t}\n",
    "\\end{split}\n",
    "$"
   ]
  },
  {
   "cell_type": "markdown",
   "metadata": {},
   "source": [
    "$\n",
    "\\begin{split}\n",
    "\\Delta W_o &= -\\alpha \\frac{\\partial loss}{\\partial W_o} \\\\\n",
    " & =-\\alpha \n",
    " \\frac{\\partial loss}{\\partial \\tilde{y}_{(t)}}  \n",
    " \\frac{\\partial \\tilde{y}_{(t)}}{\\partial \\sigma} \n",
    " \\frac{\\partial \\sigma}{\\partial h^{t}} \n",
    " \\frac{\\partial h^{t}}{\\partial O^t} \n",
    " \\frac{\\partial O^t}{\\partial \\sigma} \n",
    " \\frac{\\partial \\sigma}{\\partial W_o}\\\\\n",
    " & =2\\alpha (y_{(t)} - \\tilde{y}_{(t)}) F(1-F) V tanh(F_3) F_2(1-F_2) h^{t-1}\\\\\n",
    " & =\\Delta b_o h^{t-1}\n",
    "\\end{split}\n",
    "$"
   ]
  },
  {
   "cell_type": "markdown",
   "metadata": {},
   "source": [
    "$\n",
    "\\begin{split}\n",
    "\\Delta b_a &= -\\alpha \\frac{\\partial loss}{\\partial b_a} \\\\\n",
    " & =-\\alpha \n",
    " \\frac{\\partial loss}{\\partial \\tilde{y}_{(t)}}  \n",
    " \\frac{\\partial \\tilde{y}_{(t)}}{\\partial \\sigma} \n",
    " \\frac{\\partial \\sigma}{\\partial h^{t}} \n",
    " \\frac{\\partial h^{t}}{\\partial tanh} \n",
    " \\frac{\\partial tanh}{\\partial C^t} \n",
    " \\frac{\\partial C^t}{\\partial a^t} \n",
    " \\frac{\\partial a^t}{\\partial tanh} \n",
    " \\frac{\\partial tanh}{\\partial b_a}\\\\\n",
    " & =2\\alpha (y_{(t)} - \\tilde{y}_{(t)}) F(1-F) V F_2 (1-F_1 ^ 2) F_5 (1-F_4 ^ 2)\\\\\n",
    " & =\\Delta C V F_2 (1-F_1 ^ 2) F_5 (1-F_4 ^ 2)\n",
    "\\end{split}\n",
    "$"
   ]
  },
  {
   "cell_type": "markdown",
   "metadata": {},
   "source": [
    "$\n",
    "\\begin{split}\n",
    "\\Delta U_a &= -\\alpha \\frac{\\partial loss}{\\partial U_a} \\\\\n",
    " & =-\\alpha \n",
    " \\frac{\\partial loss}{\\partial \\tilde{y}_{(t)}}  \n",
    " \\frac{\\partial \\tilde{y}_{(t)}}{\\partial \\sigma} \n",
    " \\frac{\\partial \\sigma}{\\partial h^{t}} \n",
    " \\frac{\\partial h^{t}}{\\partial tanh} \n",
    " \\frac{\\partial tanh}{\\partial C^t} \n",
    " \\frac{\\partial C^t}{\\partial a^t} \n",
    " \\frac{\\partial a^t}{\\partial tanh} \n",
    " \\frac{\\partial tanh}{\\partial U_a}\\\\\n",
    " & =2\\alpha (y_{(t)} - \\tilde{y}_{(t)}) F(1-F) V F_2 (1-F_1 ^ 2) F_5(1-F_4 ^ 2) x^t \\\\\n",
    " & =\\Delta b_a x^t\n",
    "\\end{split}\n",
    "$"
   ]
  },
  {
   "cell_type": "markdown",
   "metadata": {},
   "source": [
    "$\n",
    "\\begin{split}\n",
    "\\Delta W_a &= -\\alpha \\frac{\\partial loss}{\\partial W_a} \\\\\n",
    " & =-\\alpha \n",
    " \\frac{\\partial loss}{\\partial \\tilde{y}_{(t)}}  \n",
    " \\frac{\\partial \\tilde{y}_{(t)}}{\\partial \\sigma} \n",
    " \\frac{\\partial \\sigma}{\\partial h^{t}} \n",
    " \\frac{\\partial h^{t}}{\\partial tanh} \n",
    " \\frac{\\partial tanh}{\\partial C^t} \n",
    " \\frac{\\partial C^t}{\\partial a^t} \n",
    " \\frac{\\partial a^t}{\\partial tanh} \n",
    " \\frac{\\partial tanh}{\\partial W_a}\\\\\n",
    " & =2\\alpha (y_{(t)} - \\tilde{y}_{(t)}) F(1-F) V F_2 (1-F_1 ^ 2)F_5(1-F_4 ^ 2)  h^{t-1} \\\\\n",
    " & =\\Delta b_a  h^{t-1}\n",
    "\\end{split}\n",
    "$"
   ]
  },
  {
   "cell_type": "code",
   "execution_count": null,
   "metadata": {
    "collapsed": true
   },
   "outputs": [],
   "source": []
  }
 ],
 "metadata": {
  "kernelspec": {
   "display_name": "Python 2",
   "language": "python",
   "name": "python2"
  },
  "language_info": {
   "codemirror_mode": {
    "name": "ipython",
    "version": 2
   },
   "file_extension": ".py",
   "mimetype": "text/x-python",
   "name": "python",
   "nbconvert_exporter": "python",
   "pygments_lexer": "ipython2",
   "version": "2.7.13"
  }
 },
 "nbformat": 4,
 "nbformat_minor": 0
}
